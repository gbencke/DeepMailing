{
 "cells": [
  {
   "cell_type": "markdown",
   "metadata": {},
   "source": [
    "# Deep Mailing - XGBoost Model"
   ]
  },
  {
   "cell_type": "code",
   "execution_count": null,
   "metadata": {},
   "outputs": [],
   "source": [
    "import xgboost\n",
    "import numpy as np\n",
    "import os\n",
    "import sys\n",
    "import logging\n",
    "import gc\n",
    "import pickle as pickle\n",
    "from datetime import datetime\n",
    "\n",
    "log_location = \"../logs/\"\n",
    "arquivo_df_pickled_norm_train_x = \"../intermediate/df.norm.train.x.pickle.npy\"\n",
    "arquivo_df_pickled_norm_train_y = \"../intermediate/df.norm.train.y.pickle.npy\"\n",
    "arquivo_df_pickled_norm_test_x = \"../intermediate/df.norm.test.x.pickle.npy\"\n",
    "arquivo_df_pickled_norm_test_y = \"../intermediate/df.norm.test.y.pickle.npy\"\n",
    "\n",
    "\n",
    "logger = logging.getLogger()\n",
    "logging.basicConfig(format=\"%(asctime)-15s %(message)s\",\n",
    "                    level=logging.DEBUG,\n",
    "                    filename=os.path.join(log_location,'log.' + datetime.now().strftime(\"%Y%m%d%H%M%S.%f\") + '.log'))"
   ]
  },
  {
   "cell_type": "code",
   "execution_count": null,
   "metadata": {},
   "outputs": [],
   "source": [
    "logging.debug(\"Carregando Pickling normalizado:{}\".format(arquivo_df_pickled_norm))    \n",
    "chamadas = pd.read_pickle(arquivo_df_pickled_norm)"
   ]
  },
  {
   "cell_type": "code",
   "execution_count": null,
   "metadata": {},
   "outputs": [],
   "source": [
    "data_maxima_mailing = chamadas.DATA_MAILING.max()\n",
    "data_minima_mailing = chamadas.DATA_MAILING.min()\n",
    "\n",
    "print(\"Max:{} Min:{}\".format(data_maxima_mailing, data_minima_mailing))"
   ]
  },
  {
   "cell_type": "code",
   "execution_count": null,
   "metadata": {},
   "outputs": [],
   "source": [
    "print(\"Criando Pickling de train e teste...\")\n",
    "chamadas_test = chamadas[(chamadas.DATA_MAILING >= data_maxima_mailing)]\n",
    "chamadas_train = chamadas[(chamadas.DATA_MAILING < data_maxima_mailing)]\n",
    "del chamadas"
   ]
  },
  {
   "cell_type": "code",
   "execution_count": null,
   "metadata": {},
   "outputs": [],
   "source": [
    "\n",
    "def create_column_reference(header_chamadas_x,arquivo_df_pickled_norm_train_x):\n",
    "    print(\"Criando Arquivo de referencia de colunas...\")\n",
    "    with open(arquivo_df_pickled_norm_train_x+\".txt\",\"w\") as f:\n",
    "    counter = 0\n",
    "    lista_header = list(header_chamadas_x.columns.values)\n",
    "    for header in lista_header:\n",
    "        f.write(\"{}-{}\\n\".format(counter,header))\n",
    "        counter=counter+1\n",
    "\n",
    "print(\"Separando colunas em X e Y...\")        \n",
    "chamadas_train = chamadas_train[(chamadas_train.NORM_TENTATIVAS > 0)]\n",
    "create_column_reference(chamadas_train.loc[:, chamadas_train.columns.values[2]:'NORM_63'].head(1), \\ \n",
    "                        arquivo_df_pickled_norm_train_x)\n",
    "chamadas_train_x = chamadas_train.loc[:, chamadas_train.columns.values[2]:'NORM_63'].as_matrix()\n",
    "chamadas_train_y = chamadas_train.NORM_CUP.as_matrix()\n",
    "chamadas_test = chamadas_test[(chamadas_test.NORM_TENTATIVAS > 0)]\n",
    "chamadas_test_x = chamadas_test.loc[:, chamadas_test.columns.values[2]:'NORM_63'].as_matrix()\n",
    "chamadas_test_y = chamadas_test.NORM_CUP.as_matrix()\n",
    "\n",
    "print(\"Criando arquivos finais em formato NUMPY para consumo pelo algoritmo...\")        \n",
    "np.save(arquivo_df_pickled_norm_train_x,chamadas_train_x)\n",
    "np.save(arquivo_df_pickled_norm_train_y,chamadas_train_y)\n",
    "np.save(arquivo_df_pickled_norm_test_x,chamadas_test_x)\n",
    "np.save(arquivo_df_pickled_norm_test_y,chamadas_test_y)\n",
    "\n",
    "print(\"Removendo objetos desnecessarios\")        \n",
    "del chamadas_train_x\n",
    "del chamadas_train_y\n",
    "del chamadas_train\n",
    "del chamadas_test\n",
    "del chamadas_test_x\n",
    "del chamadas_test_y\n",
    "\n",
    "gc.collect()"
   ]
  },
  {
   "cell_type": "code",
   "execution_count": null,
   "metadata": {},
   "outputs": [],
   "source": [
    "print(\"Carregando objetos numpy\")        \n",
    "train_x = np.load(arquivo_df_pickled_norm_train_x)\n",
    "train_y = np.load(arquivo_df_pickled_norm_train_y)\n",
    "test_x = np.load(arquivo_df_pickled_norm_test_x)\n",
    "test_y = np.load(arquivo_df_pickled_norm_test_y)"
   ]
  },
  {
   "cell_type": "code",
   "execution_count": null,
   "metadata": {},
   "outputs": [],
   "source": [
    "msg1 = \"Train - CUPS Detectados {} num universo de {}\".format(len([y for y in train_y if y >0]),len(train_y))\n",
    "msg2 = \"Test - CUPS Detectados {} num universo de {}\".format(len([y for y in test_y if y >0]),len(test_y))\n",
    "\n",
    "print(msg1)\n",
    "print(msg2)\n",
    "\n",
    "logging.debug(msg1)\n",
    "logging.debug(msg2)\n"
   ]
  },
  {
   "cell_type": "code",
   "execution_count": null,
   "metadata": {},
   "outputs": [],
   "source": [
    "from sklearn.metrics import accuracy_score\n",
    "\n",
    "model_depths_to_train = [10]\n",
    "param = {}\n",
    "param['objective'] = 'binary:logitraw'\n",
    "param['eval_metric'] = 'error'\n",
    "param['tree_method'] = 'gpu_hist'\n",
    "param['silent'] = 1\n",
    "num_round = 1000\n",
    "\n",
    "gc.collect()\n",
    "logging.debug(\"Starting model for depth:{}\".format(depth))\n",
    "dtrain = xgb.DMatrix(train_x, train_y)\n",
    "dtest = xgb.DMatrix(train_x, train_y)\n",
    "model = xgboost.XGBClassifier(silent=True, max_depth=depth)\n",
    "gpu_res = {}\n",
    "booster = xgb.train(param, dtrain, num_round, evals=[], evals_result=gpu_res)\n",
    "\n",
    "test_y_pred = booster.predict(dtest)\n",
    "test_predictions = [value for value in test_y_pred]\n",
    "accuracy = accuracy_score(test_y, test_predictions)\n",
    "\n",
    "logging.debug(\"Accuracy:{}\".format(accuracy))\n",
    "\n",
    "save_file = \"../output/{}.{}.model\".format(datetime.now().strftime(\"%Y%m%d.%H%M%S\"),depth)\n",
    "with open(save_file, 'wb') as fp:\n",
    "    pickle.dump(booster, fp)    \n",
    "logging.debug(\"Model saved as {}\".format(save_file))\n",
    "    "
   ]
  },
  {
   "cell_type": "code",
   "execution_count": null,
   "metadata": {},
   "outputs": [],
   "source": []
  }
 ],
 "metadata": {
  "kernelspec": {
   "display_name": "Python 3",
   "language": "python",
   "name": "python3"
  },
  "language_info": {
   "codemirror_mode": {
    "name": "ipython",
    "version": 3
   },
   "file_extension": ".py",
   "mimetype": "text/x-python",
   "name": "python",
   "nbconvert_exporter": "python",
   "pygments_lexer": "ipython3",
   "version": "3.5.2"
  }
 },
 "nbformat": 4,
 "nbformat_minor": 2
}
