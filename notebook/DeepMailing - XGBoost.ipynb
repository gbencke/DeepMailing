{
 "cells": [
  {
   "cell_type": "markdown",
   "metadata": {},
   "source": [
    "# Deep Mailing - XGBoost Model"
   ]
  },
  {
   "cell_type": "code",
   "execution_count": 1,
   "metadata": {},
   "outputs": [],
   "source": [
    "import xgboost\n",
    "import numpy as np\n",
    "import os\n",
    "import sys\n",
    "import logging\n",
    "import gc\n",
    "import pickle as pickle\n",
    "from datetime import datetime\n",
    "\n",
    "log_location = \"../logs/\"\n",
    "arquivo_df_pickled_norm_train_x = \"../intermediate/df.norm.train.x.pickle.npy\"\n",
    "arquivo_df_pickled_norm_train_y = \"../intermediate/df.norm.train.y.pickle.npy\"\n",
    "arquivo_df_pickled_norm_test_x = \"../intermediate/df.norm.test.x.pickle.npy\"\n",
    "arquivo_df_pickled_norm_test_y = \"../intermediate/df.norm.test.y.pickle.npy\"\n",
    "\n",
    "\n",
    "logger = logging.getLogger()\n",
    "logging.basicConfig(format=\"%(asctime)-15s %(message)s\",\n",
    "                    level=logging.DEBUG,\n",
    "                    filename=os.path.join(log_location,'log.' + datetime.now().strftime(\"%Y%m%d%H%M%S.%f\") + '.log'))"
   ]
  },
  {
   "cell_type": "code",
   "execution_count": 2,
   "metadata": {},
   "outputs": [],
   "source": [
    "train_x = np.load(arquivo_df_pickled_norm_train_x)\n",
    "train_y = np.load(arquivo_df_pickled_norm_train_y)\n",
    "test_x = np.load(arquivo_df_pickled_norm_test_x)\n",
    "test_y = np.load(arquivo_df_pickled_norm_test_y)"
   ]
  },
  {
   "cell_type": "code",
   "execution_count": null,
   "metadata": {},
   "outputs": [
    {
     "name": "stdout",
     "output_type": "stream",
     "text": [
      "Train - CUPS Detectados 2318 num universo de 967378\n",
      "Test - CUPS Detectados 106 num universo de 73189\n"
     ]
    }
   ],
   "source": [
    "msg1 = \"Train - CUPS Detectados {} num universo de {}\".format(len([y for y in train_y if y >0]),len(train_y))\n",
    "msg2 = \"Test - CUPS Detectados {} num universo de {}\".format(len([y for y in test_y if y >0]),len(test_y))\n",
    "\n",
    "print(msg1)\n",
    "print(msg2)\n",
    "\n",
    "logging.debug(msg1)\n",
    "logging.debug(msg2)\n"
   ]
  },
  {
   "cell_type": "code",
   "execution_count": null,
   "metadata": {},
   "outputs": [],
   "source": [
    "from sklearn.metrics import accuracy_score\n",
    "\n",
    "model_depths_to_train = [1,2,5,10,20,50]\n",
    "\n",
    "for depth in model_depths_to_train:\n",
    "    gc.collect()\n",
    "    logging.debug(\"Starting model for depth:{}\".format(depth))\n",
    "    model = xgboost.XGBClassifier(silent=True, max_depth=depth)\n",
    "    model.fit(train_x, train_y.ravel())\n",
    "    test_y_pred = model.predict(test_x)\n",
    "    test_predictions = [value for value in test_y_pred]\n",
    "    accuracy = accuracy_score(test_y, test_predictions)\n",
    "    logging.debug(\"Rows on test:{} - {}\".format(len(test_predictions), len(test_y)))\n",
    "    logging.debug(\"Accuracy on test : %.8f%%\" % (accuracy * 100.0))\n",
    "    save_file = \"../output/{}.{}.{}.model\".format(datetime.now().strftime(\"%Y%m%d.%H%M%S\"),depth,str(int(accuracy*100.0)).zfill(4))\n",
    "    with open(save_file, 'wb') as fp:\n",
    "        pickle.dump(model, fp)    \n",
    "    logging.debug(\"Model saved as {}\".format(save_file))\n",
    "    "
   ]
  },
  {
   "cell_type": "code",
   "execution_count": null,
   "metadata": {},
   "outputs": [],
   "source": []
  }
 ],
 "metadata": {
  "kernelspec": {
   "display_name": "Python 3",
   "language": "python",
   "name": "python3"
  },
  "language_info": {
   "codemirror_mode": {
    "name": "ipython",
    "version": 3
   },
   "file_extension": ".py",
   "mimetype": "text/x-python",
   "name": "python",
   "nbconvert_exporter": "python",
   "pygments_lexer": "ipython3",
   "version": "3.5.2"
  }
 },
 "nbformat": 4,
 "nbformat_minor": 2
}
