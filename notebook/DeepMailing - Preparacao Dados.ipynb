{
 "cells": [
  {
   "cell_type": "markdown",
   "metadata": {},
   "source": [
    "# Deep Mailing - Preparação de Dados"
   ]
  },
  {
   "cell_type": "code",
   "execution_count": 39,
   "metadata": {},
   "outputs": [],
   "source": [
    "import pandas as pd\n",
    "import dateutil.parser as parser\n",
    "import os.path\n",
    "import math\n",
    "import logging\n",
    "import numpy as np\n",
    "\n",
    "logger = logging.getLogger()\n",
    "logger.setLevel(logging.DEBUG)\n",
    "\n",
    "arquivo_chamadas = \"../data/mailing_completo.txt\"\n",
    "arquivo_df_pickled = \"../intermediate/df.pickle\"\n",
    "arquivo_df_pickled_norm = \"../intermediate/df.norm.pickle\"\n",
    "arquivo_df_pickled_norm_train = \"../intermediate/df.norm.train.pickle\"\n",
    "arquivo_df_pickled_norm_test = \"../intermediate/df.norm.test.pickle\"\n",
    "\n",
    "arquivo_df_pickled_norm_train_x = \"../intermediate/df.norm.train.x.pickle\"\n",
    "arquivo_df_pickled_norm_train_y = \"../intermediate/df.norm.train.y.pickle\"\n",
    "arquivo_df_pickled_norm_test_x = \"../intermediate/df.norm.test.x.pickle\"\n",
    "arquivo_df_pickled_norm_test_y = \"../intermediate/df.norm.test.y.pickle\"\n",
    "\n",
    "pd.options.display.max_columns = 50\n",
    "\n",
    "Normalizado = False\n"
   ]
  },
  {
   "cell_type": "code",
   "execution_count": 40,
   "metadata": {},
   "outputs": [],
   "source": [
    "def IsInt(s):\n",
    "    try: \n",
    "        int(s)\n",
    "        return True\n",
    "    except ValueError:\n",
    "        return False\n",
    "\n",
    "def IsIntAndGreaterZero(s):\n",
    "    return IsInt(s) and int(s)>0\n",
    "    \n",
    "def IsFloat(s):\n",
    "    try: \n",
    "        float(s)\n",
    "        return True\n",
    "    except ValueError:\n",
    "        return False\n",
    "    \n",
    "    \n",
    "def IsDatetime(s):\n",
    "    try: \n",
    "        parser.parse(s)\n",
    "        return True\n",
    "    except ValueError:\n",
    "        return False\n",
    "    \n",
    "def ConverterInt(val):\n",
    "    val = val.replace(\",\",\".\")\n",
    "    if IsInt(val):\n",
    "        return int(val)\n",
    "    else:\n",
    "        return 0\n",
    "\n",
    "def ConverterFloat(val):\n",
    "    val = val.replace(\",\",\".\")\n",
    "    if IsFloat(val):\n",
    "        return float(val)\n",
    "    else:\n",
    "        return 0\n",
    "    \n",
    "    \n",
    "def ConverterData(val):\n",
    "    if IsDatetime(val):\n",
    "        return parser.parse(val)\n",
    "    else:\n",
    "        return val\n",
    "    \n",
    "def func_str(x):\n",
    "    return str(x)\n",
    "\n",
    "def func_strip(x):\n",
    "    return str(x).strip()\n",
    "\n",
    "def func_start_ALTA(x):\n",
    "    return str(x).startswith('ALTA')\n",
    "\n",
    "def IsCSVDataAvailable():\n",
    "    return os.path.isfile(arquivo_df_pickled)\n",
    "\n",
    "def IsNormDataAvailable():\n",
    "    return os.path.isfile(arquivo_df_pickled_norm)\n",
    "\n",
    "def IsTrainDataAvailable():\n",
    "    return os.path.isfile(arquivo_df_pickled_norm_train)\n",
    "    \n",
    "def IsNumpyArrayDataAvailable():\n",
    "    return os.path.isfile(arquivo_df_pickled_norm_train_x + \".npy\")\n",
    "\n",
    "def limpar_df(chamadas):\n",
    "    del chamadas[\"CPF_CNPJ\"]\n",
    "    del chamadas[\"PRODUTO\"]\n",
    "    del chamadas[\"FILA\"]\n",
    "    del chamadas[\"STATUS_CONTRATO\"]\n",
    "    del chamadas[\"DETALHE_ORIGEM\"]\n",
    "    del chamadas[\"TELEFONE\"]\n",
    "    del chamadas[\"TELRUIM_RENITENCIA\"]\n",
    "    del chamadas[\"TELRUIM_DISCADOR\"]\n",
    "    del chamadas[\"OPERADORA\"]\n",
    "    del chamadas[\"ORIGEM_ULTIMA_ATUALIZACAO\"]\n",
    "    del chamadas[\"PRIMEIRA_ORIGEM\"]\n",
    "    del chamadas[\"ATRASO\"] \n",
    "    del chamadas[\"VALOR\"]\n",
    "    del chamadas[\"DT_ENTRADA\" ]\n",
    "    del chamadas[\"NLOC\"]\n",
    "    del chamadas[\"SCORE_C\"]\n",
    "    del chamadas[\"SCORE_E\"]\n",
    "    del chamadas[\"RENDA\"]\n",
    "    del chamadas[\"DT_DEVOLUCAO\"]\n",
    "    del chamadas[\"VLRISCO\"]\n",
    "    del chamadas[\"SCORE_ZANC_C\"]\n",
    "    del chamadas[\"SCORE_ZANC_E\"]\n",
    "    del chamadas[\"SCORE_ZANC\"]\n",
    "    del chamadas[\"DATA_PRIMEIRA_ORIGEM\"]\n",
    "    del chamadas[\"DATA_ULTIMA_ATUALIZACAO\"]\n",
    "    del chamadas[\"ULT_ARQ_BUREAU\"]\n",
    "  \n",
    "    return chamadas\n",
    "\n",
    "def CreateColumn(cols, df, source_col, func):\n",
    "    for col in cols:\n",
    "        df['NORM_' + col] = df.apply(lambda row: 1 if func(row[source_col]) == col else 0, axis=1)\n",
    "    return df    \n",
    "\n",
    "def CreateLogColumn(df, source_col):\n",
    "    df['NORM_' + source_col] = df.apply(lambda row: 1 if IsIntAndGreaterZero(row[source_col]) else 0, axis=1)\n",
    "    return df"
   ]
  },
  {
   "cell_type": "code",
   "execution_count": 41,
   "metadata": {},
   "outputs": [],
   "source": [
    "df_dtypes = {\n",
    "    \"CPF_CNPJ\": \"object\",\n",
    "    \"CARTEIRA\": \"object\",\n",
    "    \"SEGMENTO\": \"object\",\n",
    "    \"PRODUTO\": \"object\",\n",
    "    \"FILA\": \"object\",\n",
    "    \"STATUS_CONTRATO\": \"object\",\n",
    "    \"PROPENSAO\": \"object\",\n",
    "    \"ORIGEM\": \"object\",\n",
    "    \"DETALHE_ORIGEM\": \"object\",\n",
    "    \"STATUS_BUREAU\": \"object\",\n",
    "    \"STATUS_INTERNA\": \"object\",\n",
    "    \"DDD\": \"object\",\n",
    "    \"TELEFONE\": \"object\",\n",
    "    \"TELRUIM_RENITENCIA\": \"object\",\n",
    "    \"TELRUIM_DISCADOR\": \"object\",\n",
    "    \"STATUS_TELEFONE\": \"object\",\n",
    "    \"OPERADORA\": \"object\",\n",
    "    \"ORIGEM_ULTIMA_ATUALIZACAO\": \"object\",\n",
    "    \"PRIMEIRA_ORIGEM\": \"object\"\n",
    "}\n",
    "\n",
    "converters = {\n",
    "    \"ATRASO\":  ConverterInt,\n",
    "    \"VALOR\": ConverterFloat,\n",
    "    \"DT_ENTRADA\" : ConverterData,\n",
    "    \"NLOC\": ConverterInt,\n",
    "    \"SCORE_C\": ConverterInt,\n",
    "    \"SCORE_E\": ConverterInt,\n",
    "    \"RENDA\": ConverterFloat,\n",
    "    \"DT_DEVOLUCAO\": ConverterData,\n",
    "    \"VLRISCO\": ConverterFloat,\n",
    "    \"SCORE_ZANC_C\": ConverterInt,\n",
    "    \"SCORE_ZANC_E\": ConverterInt,\n",
    "    \"SCORE_ZANC\": ConverterInt,\n",
    "    \"DATA_PRIMEIRA_ORIGEM\": ConverterData,\n",
    "    \"DATA_ULTIMA_ATUALIZACAO\": ConverterData,\n",
    "    \"TENTATIVAS\": ConverterInt,\n",
    "    \"ULT_ARQ_BUREAU\": ConverterData,\n",
    "    \"DATA_MAILING\": ConverterData,\n",
    "    \"LIGACOES\": ConverterInt,\n",
    "    \"CUP\": ConverterInt\n",
    "}"
   ]
  },
  {
   "cell_type": "code",
   "execution_count": 42,
   "metadata": {},
   "outputs": [
    {
     "name": "stderr",
     "output_type": "stream",
     "text": [
      "DEBUG:root:Normalizado:True\n"
     ]
    }
   ],
   "source": [
    "if not IsCSVDataAvailable():\n",
    "    chamadas = pd.read_csv(arquivo_chamadas, sep=\"|\", dtype=df_dtypes, converters = converters)\n",
    "    chamadas = limpar_df(chamadas)\n",
    "    chamadas.to_pickle(arquivo_df_pickled)\n",
    "else:\n",
    "    if not IsNormDataAvailable():    \n",
    "        chamadas = pd.read_pickle(arquivo_df_pickled)\n",
    "    else:\n",
    "        chamadas = pd.read_pickle(arquivo_df_pickled_norm)\n",
    "        Normalizado = True\n",
    "        \n",
    "logging.debug(\"Normalizado:{}\".format(Normalizado))        "
   ]
  },
  {
   "cell_type": "code",
   "execution_count": 43,
   "metadata": {},
   "outputs": [
    {
     "name": "stdout",
     "output_type": "stream",
     "text": [
      "Max:2017-12-09 00:00:00 Min:2017-11-28 00:00:00\n"
     ]
    }
   ],
   "source": [
    "data_maxima_mailing = chamadas.DATA_MAILING.max()\n",
    "data_minima_mailing = chamadas.DATA_MAILING.min()\n",
    "\n",
    "print(\"Max:{} Min:{}\".format(data_maxima_mailing, data_minima_mailing))"
   ]
  },
  {
   "cell_type": "code",
   "execution_count": 44,
   "metadata": {},
   "outputs": [
    {
     "name": "stdout",
     "output_type": "stream",
     "text": [
      "Normalizando Carteiras...\n"
     ]
    }
   ],
   "source": [
    "print(\"Normalizando Carteiras...\")\n",
    "if not Normalizado:\n",
    "    Carteiras = set([x for x in chamadas.CARTEIRA.unique()[:-1] if len(x) == 3])\n",
    "    chamadas = CreateColumn(Carteiras,chamadas, 'CARTEIRA', func_str)"
   ]
  },
  {
   "cell_type": "code",
   "execution_count": 45,
   "metadata": {},
   "outputs": [
    {
     "name": "stdout",
     "output_type": "stream",
     "text": [
      "Normalizando Segmentos...\n"
     ]
    }
   ],
   "source": [
    "print(\"Normalizando Segmentos...\")\n",
    "if not Normalizado:\n",
    "    Segmentos = set([x.strip() for x in chamadas.SEGMENTO.unique()[:-1] if len(x.strip()) == 2])\n",
    "    chamadas = CreateColumn(Segmentos,chamadas, 'SEGMENTO', func_strip)"
   ]
  },
  {
   "cell_type": "code",
   "execution_count": 46,
   "metadata": {},
   "outputs": [
    {
     "name": "stdout",
     "output_type": "stream",
     "text": [
      "Normalizando Chamadas...\n"
     ]
    }
   ],
   "source": [
    "print(\"Normalizando Chamadas...\")\n",
    "if not Normalizado:\n",
    "    Propensao = set([x[:4] for x in chamadas.PROPENSAO.unique() if str(x).startswith(\"ALTA\")])\n",
    "    chamadas = CreateColumn(Propensao,chamadas, 'PROPENSAO', func_start_ALTA)"
   ]
  },
  {
   "cell_type": "code",
   "execution_count": 47,
   "metadata": {},
   "outputs": [
    {
     "name": "stdout",
     "output_type": "stream",
     "text": [
      "Normalizando Origem...\n"
     ]
    }
   ],
   "source": [
    "print(\"Normalizando Origem...\")\n",
    "if not Normalizado:\n",
    "    Origem = set([x for x in chamadas.ORIGEM.unique()[:-1]])\n",
    "    chamadas = CreateColumn(Origem,chamadas, 'ORIGEM', func_str)"
   ]
  },
  {
   "cell_type": "code",
   "execution_count": 48,
   "metadata": {},
   "outputs": [
    {
     "name": "stdout",
     "output_type": "stream",
     "text": [
      "Normalizando StatusBureau...\n"
     ]
    }
   ],
   "source": [
    "print(\"Normalizando StatusBureau...\")\n",
    "if not Normalizado:\n",
    "    StatusBureau = set([str(x) for x in chamadas.STATUS_BUREAU.unique()])\n",
    "    chamadas = CreateColumn(StatusBureau,chamadas, 'STATUS_BUREAU', func_str)"
   ]
  },
  {
   "cell_type": "code",
   "execution_count": 49,
   "metadata": {},
   "outputs": [
    {
     "name": "stdout",
     "output_type": "stream",
     "text": [
      "Normalizando StatusInterna...\n"
     ]
    }
   ],
   "source": [
    "print(\"Normalizando StatusInterna...\")\n",
    "if not Normalizado:\n",
    "    StatusInterna = set([str(x) for x in chamadas.STATUS_INTERNA.unique()[:-1]])\n",
    "    chamadas = CreateColumn(StatusInterna,chamadas, 'STATUS_INTERNA', func_str)"
   ]
  },
  {
   "cell_type": "code",
   "execution_count": 50,
   "metadata": {},
   "outputs": [
    {
     "name": "stdout",
     "output_type": "stream",
     "text": [
      "Normalizando Telefone...\n"
     ]
    }
   ],
   "source": [
    "print(\"Normalizando Telefone...\")\n",
    "if not Normalizado:\n",
    "    StatusTelefone = set([str(x) for x in chamadas.STATUS_TELEFONE.unique()[:-1]])\n",
    "    chamadas = CreateColumn(StatusTelefone,chamadas, 'STATUS_TELEFONE', func_str)"
   ]
  },
  {
   "cell_type": "code",
   "execution_count": 51,
   "metadata": {},
   "outputs": [
    {
     "name": "stdout",
     "output_type": "stream",
     "text": [
      "Normalizando DDD...\n"
     ]
    }
   ],
   "source": [
    "print(\"Normalizando DDD...\")\n",
    "if not Normalizado:\n",
    "    DDD = set([str(x) for x in chamadas.DDD.unique()[:-1]])\n",
    "    chamadas = CreateColumn(DDD,chamadas, 'DDD', func_str)"
   ]
  },
  {
   "cell_type": "code",
   "execution_count": 52,
   "metadata": {},
   "outputs": [
    {
     "name": "stdout",
     "output_type": "stream",
     "text": [
      "Normalizando LIGACOES E TAL...\n"
     ]
    }
   ],
   "source": [
    "print(\"Normalizando LIGACOES E TAL...\")\n",
    "if not Normalizado:\n",
    "    chamadas = CreateLogColumn(chamadas,'TENTATIVAS')\n",
    "    chamadas = CreateLogColumn(chamadas,'LIGACOES')\n",
    "    chamadas = CreateLogColumn(chamadas,'CUP')"
   ]
  },
  {
   "cell_type": "code",
   "execution_count": 53,
   "metadata": {},
   "outputs": [
    {
     "name": "stdout",
     "output_type": "stream",
     "text": [
      "Removendo Campos desnecessarios e pickling...\n"
     ]
    }
   ],
   "source": [
    "print(\"Removendo Campos desnecessarios e pickling...\")\n",
    "if not Normalizado:\n",
    "    del chamadas['NUMERO']\n",
    "    del chamadas['TENTATIVAS']\n",
    "    del chamadas['LIGACOES']\n",
    "    del chamadas['CUP']\n",
    "    del chamadas['DDD']\n",
    "    del chamadas['STATUS_TELEFONE']\n",
    "    del chamadas['STATUS_INTERNA']\n",
    "    del chamadas['STATUS_BUREAU']\n",
    "    del chamadas['ORIGEM']\n",
    "    del chamadas['SEGMENTO']\n",
    "    del chamadas['PROPENSAO']\n",
    "    del chamadas['CARTEIRA']\n",
    "    chamadas.to_pickle(arquivo_df_pickled_norm)\n"
   ]
  },
  {
   "cell_type": "code",
   "execution_count": 54,
   "metadata": {},
   "outputs": [
    {
     "name": "stdout",
     "output_type": "stream",
     "text": [
      "Criando Pickling de train e teste...\n"
     ]
    }
   ],
   "source": [
    "print(\"Criando Pickling de train e teste...\")\n",
    "if not IsTrainDataAvailable():\n",
    "    chamadas_test = chamadas[(chamadas.DATA_MAILING >= data_maxima_mailing)]\n",
    "    chamadas_test.to_pickle(arquivo_df_pickled_norm_test)\n",
    "    del chamadas_test\n",
    "    chamadas_train = chamadas[(chamadas.DATA_MAILING < data_maxima_mailing)]\n",
    "    chamadas_train.to_pickle(arquivo_df_pickled_norm_train)\n",
    "    del chamadas_train\n",
    "   \n",
    "del chamadas\n",
    "chamadas_train = pd.read_pickle(arquivo_df_pickled_norm_train)\n",
    "chamadas_test = pd.read_pickle(arquivo_df_pickled_norm_test)"
   ]
  },
  {
   "cell_type": "code",
   "execution_count": 55,
   "metadata": {},
   "outputs": [
    {
     "name": "stdout",
     "output_type": "stream",
     "text": [
      "Criando numpy arrays de train e teste...\n"
     ]
    }
   ],
   "source": [
    "print(\"Criando numpy arrays de train e teste...\")\n",
    "if not IsNumpyArrayDataAvailable():\n",
    "    chamadas_train = chamadas_train[(chamadas_train.NORM_TENTATIVAS > 0)]\n",
    "    header_chamadas_x = chamadas_train.loc[:, chamadas_train.columns.values[2]:'NORM_63'].head(1)\n",
    "    with open(arquivo_df_pickled_norm_train_x+\".txt\",\"w\") as f:\n",
    "        counter = 0\n",
    "        lista_header = list(header_chamadas_x.columns.values)\n",
    "        for header in lista_header:\n",
    "            f.write(\"{}-{}\\n\".format(counter,header))\n",
    "            counter=counter+1\n",
    "           \n",
    "    chamadas_train_x = chamadas_train.loc[:, chamadas_train.columns.values[2]:'NORM_63'].as_matrix()\n",
    "    chamadas_train_y = chamadas_train.NORM_CUP.as_matrix()\n",
    "    del chamadas_train\n",
    "    np.save(arquivo_df_pickled_norm_train_x,chamadas_train_x)\n",
    "    np.save(arquivo_df_pickled_norm_train_y,chamadas_train_y)\n",
    "    del chamadas_train_x\n",
    "    del chamadas_train_y\n",
    "\n",
    "    chamadas_test = chamadas_test[(chamadas_test.NORM_TENTATIVAS > 0)]\n",
    "    chamadas_test_x = chamadas_test.loc[:, chamadas_test.columns.values[2]:'NORM_63'].as_matrix()\n",
    "    chamadas_test_y = chamadas_test.NORM_CUP.as_matrix()\n",
    "    del chamadas_test\n",
    "    np.save(arquivo_df_pickled_norm_test_x,chamadas_test_x)\n",
    "    np.save(arquivo_df_pickled_norm_test_y,chamadas_test_y)\n",
    "    del chamadas_test_x\n",
    "    del chamadas_test_y\n"
   ]
  },
  {
   "cell_type": "code",
   "execution_count": null,
   "metadata": {},
   "outputs": [],
   "source": []
  }
 ],
 "metadata": {
  "kernelspec": {
   "display_name": "Python 3",
   "language": "python",
   "name": "python3"
  },
  "language_info": {
   "codemirror_mode": {
    "name": "ipython",
    "version": 3
   },
   "file_extension": ".py",
   "mimetype": "text/x-python",
   "name": "python",
   "nbconvert_exporter": "python",
   "pygments_lexer": "ipython3",
   "version": "3.5.2"
  }
 },
 "nbformat": 4,
 "nbformat_minor": 2
}
