{
 "cells": [
  {
   "cell_type": "markdown",
   "metadata": {},
   "source": [
    "# Deep Mailing - XGBoost Model - Reduzindo Dimensões"
   ]
  },
  {
   "cell_type": "markdown",
   "metadata": {},
   "source": [
    "O objetivo desse notebook é demonstrar a utilizacao do XGBoost para a criacao de arvores de decisão para a predição de CUPS em mailings.\n",
    "\n",
    "Em primeiro lugar, definimos os imports que iremos usar..."
   ]
  },
  {
   "cell_type": "code",
   "execution_count": 1,
   "metadata": {},
   "outputs": [
    {
     "name": "stderr",
     "output_type": "stream",
     "text": [
      "/home/ubuntu/git/DeepMailing/env/lib/python3.5/site-packages/sklearn/cross_validation.py:41: DeprecationWarning: This module was deprecated in version 0.18 in favor of the model_selection module into which all the refactored classes and functions are moved. Also note that the interface of the new CV iterators are different from that of this module. This module will be removed in 0.20.\n",
      "  \"This module will be removed in 0.20.\", DeprecationWarning)\n"
     ]
    }
   ],
   "source": [
    "import xgboost\n",
    "import numpy as np\n",
    "import os\n",
    "import sys\n",
    "import logging\n",
    "import gc\n",
    "import pickle as pickle\n",
    "import pandas as pd\n",
    "import dateutil.parser as parser\n",
    "import os.path\n",
    "import math\n",
    "from sklearn.metrics import accuracy_score\n",
    "from datetime import datetime\n",
    "import xgboost as xgb\n",
    "from xgboost import XGBClassifier\n",
    "from xgboost import plot_tree\n",
    "import matplotlib.pyplot as plt\n",
    "from matplotlib.pylab import rcParams"
   ]
  },
  {
   "cell_type": "markdown",
   "metadata": {},
   "source": [
    "Abaixo definimos os diretorios e nomes dos arquivos intermediarios."
   ]
  },
  {
   "cell_type": "code",
   "execution_count": 2,
   "metadata": {},
   "outputs": [],
   "source": [
    "log_location = \"../logs/\"\n",
    "arquivo_df_pickled_norm = \"../intermediate/df.norm.pickle\"\n",
    "arquivo_df_pickled_norm_train = \"../intermediate/df.norm.train.pickle\"\n",
    "arquivo_df_pickled_norm_test = \"../intermediate/df.norm.test.pickle\"\n",
    "arquivo_df_pickled_norm_train_x = \"../intermediate/df.norm.train.x.pickle.npy\"\n",
    "arquivo_df_pickled_norm_train_y = \"../intermediate/df.norm.train.y.pickle.npy\"\n",
    "arquivo_df_pickled_norm_test_x = \"../intermediate/df.norm.test.x.pickle.npy\"\n",
    "arquivo_df_pickled_norm_test_y = \"../intermediate/df.norm.test.y.pickle.npy\""
   ]
  },
  {
   "cell_type": "markdown",
   "metadata": {},
   "source": [
    "Redefinimos o logger que iremos usar"
   ]
  },
  {
   "cell_type": "code",
   "execution_count": 3,
   "metadata": {},
   "outputs": [],
   "source": [
    "logger = logging.getLogger()\n",
    "logging.basicConfig(format=\"%(asctime)-15s %(message)s\",\n",
    "                    level=logging.DEBUG,\n",
    "                    filename=os.path.join(log_location,'xgboost.log.' + datetime.now().strftime(\"%Y%m%d%H%M%S.%f\") + '.log'))"
   ]
  },
  {
   "cell_type": "markdown",
   "metadata": {},
   "source": [
    "Criamos uma função para imprimir tanto no log quanto no notebook..."
   ]
  },
  {
   "cell_type": "code",
   "execution_count": 4,
   "metadata": {},
   "outputs": [],
   "source": [
    "def print_log(msg):\n",
    "    logging.debug(msg)\n",
    "    print(msg)    "
   ]
  },
  {
   "cell_type": "markdown",
   "metadata": {},
   "source": [
    "Carregamos para a memoria o arquivo normalizado e pickled que foi gerado no notebook de \"Preparação de Dados\"."
   ]
  },
  {
   "cell_type": "code",
   "execution_count": 5,
   "metadata": {},
   "outputs": [
    {
     "name": "stdout",
     "output_type": "stream",
     "text": [
      "Carregando Pickling normalizado:../intermediate/df.norm.pickle\n"
     ]
    }
   ],
   "source": [
    "print_log(\"Carregando Pickling normalizado:{}\".format(arquivo_df_pickled_norm))    \n",
    "chamadas = pd.read_pickle(arquivo_df_pickled_norm)"
   ]
  },
  {
   "cell_type": "markdown",
   "metadata": {},
   "source": [
    "Verificamos as dimensões do dataframe carregado.... E imprimimos uma amostra do dado que precisamos com apenas as colunas relevantes... Como podemos perceber o nosso modelo considera apenas colunas com valores booleanos (0 ou 1)"
   ]
  },
  {
   "cell_type": "code",
   "execution_count": 6,
   "metadata": {},
   "outputs": [
    {
     "name": "stdout",
     "output_type": "stream",
     "text": [
      "(1435423, 103)\n"
     ]
    },
    {
     "data": {
      "text/html": [
       "<div>\n",
       "<style scoped>\n",
       "    .dataframe tbody tr th:only-of-type {\n",
       "        vertical-align: middle;\n",
       "    }\n",
       "\n",
       "    .dataframe tbody tr th {\n",
       "        vertical-align: top;\n",
       "    }\n",
       "\n",
       "    .dataframe thead th {\n",
       "        text-align: right;\n",
       "    }\n",
       "</style>\n",
       "<table border=\"1\" class=\"dataframe\">\n",
       "  <thead>\n",
       "    <tr style=\"text-align: right;\">\n",
       "      <th></th>\n",
       "      <th>NORM_CARTEIRA_A01</th>\n",
       "      <th>NORM_CARTEIRA_W01</th>\n",
       "      <th>NORM_CARTEIRA_W02</th>\n",
       "      <th>NORM_CARTEIRA_A02</th>\n",
       "      <th>NORM_CARTEIRA_A03</th>\n",
       "      <th>NORM_SEGMENTO_CR</th>\n",
       "      <th>NORM_SEGMENTO_FA</th>\n",
       "      <th>NORM_SEGMENTO_CC</th>\n",
       "      <th>NORM_SEGMENTO_LC</th>\n",
       "      <th>NORM_SEGMENTO_HC</th>\n",
       "      <th>...</th>\n",
       "      <th>NORM_DDD_35</th>\n",
       "      <th>NORM_DDD_93</th>\n",
       "      <th>NORM_DDD_81</th>\n",
       "      <th>NORM_DDD_62</th>\n",
       "      <th>NORM_DDD_17</th>\n",
       "      <th>NORM_DDD_54</th>\n",
       "      <th>NORM_DDD_47</th>\n",
       "      <th>NORM_DDD_31</th>\n",
       "      <th>NORM_DDD_45</th>\n",
       "      <th>NORM_DDD_87</th>\n",
       "    </tr>\n",
       "  </thead>\n",
       "  <tbody>\n",
       "    <tr>\n",
       "      <th>0</th>\n",
       "      <td>0</td>\n",
       "      <td>0</td>\n",
       "      <td>0</td>\n",
       "      <td>0</td>\n",
       "      <td>1</td>\n",
       "      <td>0</td>\n",
       "      <td>0</td>\n",
       "      <td>1</td>\n",
       "      <td>0</td>\n",
       "      <td>0</td>\n",
       "      <td>...</td>\n",
       "      <td>0</td>\n",
       "      <td>0</td>\n",
       "      <td>0</td>\n",
       "      <td>0</td>\n",
       "      <td>0</td>\n",
       "      <td>0</td>\n",
       "      <td>0</td>\n",
       "      <td>1</td>\n",
       "      <td>0</td>\n",
       "      <td>0</td>\n",
       "    </tr>\n",
       "    <tr>\n",
       "      <th>1</th>\n",
       "      <td>1</td>\n",
       "      <td>0</td>\n",
       "      <td>0</td>\n",
       "      <td>0</td>\n",
       "      <td>0</td>\n",
       "      <td>0</td>\n",
       "      <td>0</td>\n",
       "      <td>0</td>\n",
       "      <td>1</td>\n",
       "      <td>0</td>\n",
       "      <td>...</td>\n",
       "      <td>0</td>\n",
       "      <td>0</td>\n",
       "      <td>0</td>\n",
       "      <td>0</td>\n",
       "      <td>0</td>\n",
       "      <td>0</td>\n",
       "      <td>0</td>\n",
       "      <td>0</td>\n",
       "      <td>0</td>\n",
       "      <td>0</td>\n",
       "    </tr>\n",
       "    <tr>\n",
       "      <th>2</th>\n",
       "      <td>0</td>\n",
       "      <td>1</td>\n",
       "      <td>0</td>\n",
       "      <td>0</td>\n",
       "      <td>0</td>\n",
       "      <td>0</td>\n",
       "      <td>0</td>\n",
       "      <td>0</td>\n",
       "      <td>0</td>\n",
       "      <td>1</td>\n",
       "      <td>...</td>\n",
       "      <td>0</td>\n",
       "      <td>0</td>\n",
       "      <td>0</td>\n",
       "      <td>0</td>\n",
       "      <td>0</td>\n",
       "      <td>0</td>\n",
       "      <td>0</td>\n",
       "      <td>0</td>\n",
       "      <td>0</td>\n",
       "      <td>1</td>\n",
       "    </tr>\n",
       "    <tr>\n",
       "      <th>3</th>\n",
       "      <td>0</td>\n",
       "      <td>0</td>\n",
       "      <td>0</td>\n",
       "      <td>1</td>\n",
       "      <td>0</td>\n",
       "      <td>0</td>\n",
       "      <td>0</td>\n",
       "      <td>0</td>\n",
       "      <td>1</td>\n",
       "      <td>0</td>\n",
       "      <td>...</td>\n",
       "      <td>0</td>\n",
       "      <td>0</td>\n",
       "      <td>0</td>\n",
       "      <td>0</td>\n",
       "      <td>0</td>\n",
       "      <td>0</td>\n",
       "      <td>0</td>\n",
       "      <td>0</td>\n",
       "      <td>0</td>\n",
       "      <td>0</td>\n",
       "    </tr>\n",
       "    <tr>\n",
       "      <th>4</th>\n",
       "      <td>0</td>\n",
       "      <td>0</td>\n",
       "      <td>0</td>\n",
       "      <td>1</td>\n",
       "      <td>0</td>\n",
       "      <td>0</td>\n",
       "      <td>1</td>\n",
       "      <td>0</td>\n",
       "      <td>0</td>\n",
       "      <td>0</td>\n",
       "      <td>...</td>\n",
       "      <td>0</td>\n",
       "      <td>0</td>\n",
       "      <td>0</td>\n",
       "      <td>0</td>\n",
       "      <td>0</td>\n",
       "      <td>0</td>\n",
       "      <td>0</td>\n",
       "      <td>0</td>\n",
       "      <td>0</td>\n",
       "      <td>0</td>\n",
       "    </tr>\n",
       "    <tr>\n",
       "      <th>5</th>\n",
       "      <td>0</td>\n",
       "      <td>0</td>\n",
       "      <td>1</td>\n",
       "      <td>0</td>\n",
       "      <td>0</td>\n",
       "      <td>0</td>\n",
       "      <td>0</td>\n",
       "      <td>1</td>\n",
       "      <td>0</td>\n",
       "      <td>0</td>\n",
       "      <td>...</td>\n",
       "      <td>0</td>\n",
       "      <td>0</td>\n",
       "      <td>0</td>\n",
       "      <td>0</td>\n",
       "      <td>0</td>\n",
       "      <td>0</td>\n",
       "      <td>0</td>\n",
       "      <td>0</td>\n",
       "      <td>0</td>\n",
       "      <td>0</td>\n",
       "    </tr>\n",
       "    <tr>\n",
       "      <th>6</th>\n",
       "      <td>0</td>\n",
       "      <td>0</td>\n",
       "      <td>0</td>\n",
       "      <td>0</td>\n",
       "      <td>1</td>\n",
       "      <td>0</td>\n",
       "      <td>0</td>\n",
       "      <td>0</td>\n",
       "      <td>0</td>\n",
       "      <td>0</td>\n",
       "      <td>...</td>\n",
       "      <td>0</td>\n",
       "      <td>0</td>\n",
       "      <td>0</td>\n",
       "      <td>1</td>\n",
       "      <td>0</td>\n",
       "      <td>0</td>\n",
       "      <td>0</td>\n",
       "      <td>0</td>\n",
       "      <td>0</td>\n",
       "      <td>0</td>\n",
       "    </tr>\n",
       "    <tr>\n",
       "      <th>7</th>\n",
       "      <td>0</td>\n",
       "      <td>1</td>\n",
       "      <td>0</td>\n",
       "      <td>0</td>\n",
       "      <td>0</td>\n",
       "      <td>0</td>\n",
       "      <td>0</td>\n",
       "      <td>0</td>\n",
       "      <td>1</td>\n",
       "      <td>0</td>\n",
       "      <td>...</td>\n",
       "      <td>0</td>\n",
       "      <td>0</td>\n",
       "      <td>0</td>\n",
       "      <td>0</td>\n",
       "      <td>0</td>\n",
       "      <td>0</td>\n",
       "      <td>0</td>\n",
       "      <td>0</td>\n",
       "      <td>0</td>\n",
       "      <td>0</td>\n",
       "    </tr>\n",
       "    <tr>\n",
       "      <th>8</th>\n",
       "      <td>0</td>\n",
       "      <td>0</td>\n",
       "      <td>0</td>\n",
       "      <td>1</td>\n",
       "      <td>0</td>\n",
       "      <td>0</td>\n",
       "      <td>0</td>\n",
       "      <td>1</td>\n",
       "      <td>0</td>\n",
       "      <td>0</td>\n",
       "      <td>...</td>\n",
       "      <td>0</td>\n",
       "      <td>0</td>\n",
       "      <td>0</td>\n",
       "      <td>0</td>\n",
       "      <td>0</td>\n",
       "      <td>0</td>\n",
       "      <td>0</td>\n",
       "      <td>0</td>\n",
       "      <td>0</td>\n",
       "      <td>0</td>\n",
       "    </tr>\n",
       "    <tr>\n",
       "      <th>9</th>\n",
       "      <td>0</td>\n",
       "      <td>0</td>\n",
       "      <td>0</td>\n",
       "      <td>1</td>\n",
       "      <td>0</td>\n",
       "      <td>0</td>\n",
       "      <td>0</td>\n",
       "      <td>0</td>\n",
       "      <td>0</td>\n",
       "      <td>0</td>\n",
       "      <td>...</td>\n",
       "      <td>0</td>\n",
       "      <td>0</td>\n",
       "      <td>0</td>\n",
       "      <td>0</td>\n",
       "      <td>0</td>\n",
       "      <td>0</td>\n",
       "      <td>0</td>\n",
       "      <td>0</td>\n",
       "      <td>0</td>\n",
       "      <td>0</td>\n",
       "    </tr>\n",
       "  </tbody>\n",
       "</table>\n",
       "<p>10 rows × 98 columns</p>\n",
       "</div>"
      ],
      "text/plain": [
       "   NORM_CARTEIRA_A01  NORM_CARTEIRA_W01  NORM_CARTEIRA_W02  NORM_CARTEIRA_A02  \\\n",
       "0                  0                  0                  0                  0   \n",
       "1                  1                  0                  0                  0   \n",
       "2                  0                  1                  0                  0   \n",
       "3                  0                  0                  0                  1   \n",
       "4                  0                  0                  0                  1   \n",
       "5                  0                  0                  1                  0   \n",
       "6                  0                  0                  0                  0   \n",
       "7                  0                  1                  0                  0   \n",
       "8                  0                  0                  0                  1   \n",
       "9                  0                  0                  0                  1   \n",
       "\n",
       "   NORM_CARTEIRA_A03  NORM_SEGMENTO_CR  NORM_SEGMENTO_FA  NORM_SEGMENTO_CC  \\\n",
       "0                  1                 0                 0                 1   \n",
       "1                  0                 0                 0                 0   \n",
       "2                  0                 0                 0                 0   \n",
       "3                  0                 0                 0                 0   \n",
       "4                  0                 0                 1                 0   \n",
       "5                  0                 0                 0                 1   \n",
       "6                  1                 0                 0                 0   \n",
       "7                  0                 0                 0                 0   \n",
       "8                  0                 0                 0                 1   \n",
       "9                  0                 0                 0                 0   \n",
       "\n",
       "   NORM_SEGMENTO_LC  NORM_SEGMENTO_HC     ...       NORM_DDD_35  NORM_DDD_93  \\\n",
       "0                 0                 0     ...                 0            0   \n",
       "1                 1                 0     ...                 0            0   \n",
       "2                 0                 1     ...                 0            0   \n",
       "3                 1                 0     ...                 0            0   \n",
       "4                 0                 0     ...                 0            0   \n",
       "5                 0                 0     ...                 0            0   \n",
       "6                 0                 0     ...                 0            0   \n",
       "7                 1                 0     ...                 0            0   \n",
       "8                 0                 0     ...                 0            0   \n",
       "9                 0                 0     ...                 0            0   \n",
       "\n",
       "   NORM_DDD_81  NORM_DDD_62  NORM_DDD_17  NORM_DDD_54  NORM_DDD_47  \\\n",
       "0            0            0            0            0            0   \n",
       "1            0            0            0            0            0   \n",
       "2            0            0            0            0            0   \n",
       "3            0            0            0            0            0   \n",
       "4            0            0            0            0            0   \n",
       "5            0            0            0            0            0   \n",
       "6            0            1            0            0            0   \n",
       "7            0            0            0            0            0   \n",
       "8            0            0            0            0            0   \n",
       "9            0            0            0            0            0   \n",
       "\n",
       "   NORM_DDD_31  NORM_DDD_45  NORM_DDD_87  \n",
       "0            1            0            0  \n",
       "1            0            0            0  \n",
       "2            0            0            1  \n",
       "3            0            0            0  \n",
       "4            0            0            0  \n",
       "5            0            0            0  \n",
       "6            0            0            0  \n",
       "7            0            0            0  \n",
       "8            0            0            0  \n",
       "9            0            0            0  \n",
       "\n",
       "[10 rows x 98 columns]"
      ]
     },
     "execution_count": 6,
     "metadata": {},
     "output_type": "execute_result"
    }
   ],
   "source": [
    "print_log(chamadas.shape)\n",
    "chamadas.loc[:, 'NORM_CARTEIRA_A01':'NORM_DDD_87'].head(10)"
   ]
  },
  {
   "cell_type": "markdown",
   "metadata": {},
   "source": [
    "Para tratarmos as colunas de forma correta, precisamos eliminar os caracteres especiais das colunas, principalmente o espaco e o sinal de - para isso iremos rodar o codigo abaixo para tratar."
   ]
  },
  {
   "cell_type": "code",
   "execution_count": 7,
   "metadata": {},
   "outputs": [],
   "source": [
    "cols = chamadas.columns\n",
    "cols = cols.map(lambda x: x.replace(' ', '_').replace('-','menos'))\n",
    "chamadas.columns = cols"
   ]
  },
  {
   "cell_type": "markdown",
   "metadata": {},
   "source": [
    "Um problema que temos é q temos muito poucos CUPS sendo acionados, então temos q remover linhas não relevantes no arquivo.\n",
    "\n",
    "As linhas que devemos remover são aquelas em que não houve CUP e cujas features apesar de ativadas (terem valor 1), raramente são determinantes para um CUP.\n",
    "\n",
    "No exemplo abaixo, eu vou determinar que se em menos de 15% das vezes em q determinada feature foi ativada, foi ativado um CUP tambem, eu vou determinar que essa coluna é irrelevante e que todos os valores com ativação dessa coluna e que não haja CUP seja apagados.\n",
    "\n",
    "Dessa forma, iremos remover linhas ativações de features que não geraram NORM_CUP =1 e q sabemos q não são relevantes ao modelo. \n",
    "\n",
    "No final, calculamos o threshold, que é o numero minimo de CUPs ativados para determinarmos se aquela feature é relevante ou não."
   ]
  },
  {
   "cell_type": "code",
   "execution_count": 8,
   "metadata": {},
   "outputs": [
    {
     "data": {
      "text/plain": [
       "76.05561638996821"
      ]
     },
     "execution_count": 8,
     "metadata": {},
     "output_type": "execute_result"
    }
   ],
   "source": [
    "minima_expressividade = 0.15\n",
    "dimensionalidade_cup = minima_expressividade / (len(chamadas.query(\"NORM_CUP==1\").index) /  len(chamadas.index))\n",
    "dimensionalidade_cup "
   ]
  },
  {
   "cell_type": "markdown",
   "metadata": {},
   "source": [
    "Como já calculamos o numero minimo de CUPs gerados para que uma determinada feature seja gerada, podemos agora determinar quais as colunas que devem ser limpas do dataframe "
   ]
  },
  {
   "cell_type": "code",
   "execution_count": 9,
   "metadata": {},
   "outputs": [
    {
     "name": "stdout",
     "output_type": "stream",
     "text": [
      "Coluna NORM_SEGMENTO_FT foi limpa do dataframe por ser irrelevante...\n",
      "Coluna NORM_PROPENSAO_ALTA foi limpa do dataframe por ser irrelevante...\n",
      "Coluna NORM_STATUS_BUREAU_Indefinido foi limpa do dataframe por ser irrelevante...\n",
      "Coluna NORM_STATUS_INTERNA_Novo foi limpa do dataframe por ser irrelevante...\n",
      "Coluna NORM_STATUS_TELEFONE_Indefinido foi limpa do dataframe por ser irrelevante...\n",
      "Coluna NORM_STATUS_TELEFONE_Validado foi limpa do dataframe por ser irrelevante...\n",
      "Coluna NORM_STATUS_TELEFONE_Novo foi limpa do dataframe por ser irrelevante...\n",
      "Coluna NORM_DDD_63 foi limpa do dataframe por ser irrelevante...\n",
      "Coluna NORM_DDD_24 foi limpa do dataframe por ser irrelevante...\n",
      "Coluna NORM_DDD_96 foi limpa do dataframe por ser irrelevante...\n",
      "Coluna NORM_DDD_22 foi limpa do dataframe por ser irrelevante...\n",
      "Coluna NORM_DDD_38 foi limpa do dataframe por ser irrelevante...\n",
      "Coluna NORM_DDD_79 foi limpa do dataframe por ser irrelevante...\n",
      "Coluna NORM_DDD_69 foi limpa do dataframe por ser irrelevante...\n",
      "Coluna NORM_DDD_53 foi limpa do dataframe por ser irrelevante...\n",
      "Coluna NORM_DDD_34 foi limpa do dataframe por ser irrelevante...\n",
      "Coluna NORM_DDD_94 foi limpa do dataframe por ser irrelevante...\n",
      "Coluna NORM_DDD_84 foi limpa do dataframe por ser irrelevante...\n",
      "Coluna NORM_DDD_75 foi limpa do dataframe por ser irrelevante...\n",
      "Coluna NORM_DDD_88 foi limpa do dataframe por ser irrelevante...\n",
      "Coluna NORM_DDD_68 foi limpa do dataframe por ser irrelevante...\n",
      "Coluna NORM_DDD_14 foi limpa do dataframe por ser irrelevante...\n",
      "Coluna NORM_DDD_32 foi limpa do dataframe por ser irrelevante...\n",
      "Coluna NORM_DDD_37 foi limpa do dataframe por ser irrelevante...\n",
      "Coluna NORM_DDD_91 foi limpa do dataframe por ser irrelevante...\n",
      "Coluna NORM_DDD_92 foi limpa do dataframe por ser irrelevante...\n",
      "Coluna NORM_DDD_99 foi limpa do dataframe por ser irrelevante...\n",
      "Coluna NORM_DDD_86 foi limpa do dataframe por ser irrelevante...\n",
      "Coluna NORM_DDD_97 foi limpa do dataframe por ser irrelevante...\n",
      "Coluna NORM_DDD_49 foi limpa do dataframe por ser irrelevante...\n",
      "Coluna NORM_DDD_33 foi limpa do dataframe por ser irrelevante...\n",
      "Coluna NORM_DDD_61 foi limpa do dataframe por ser irrelevante...\n",
      "Coluna NORM_DDD_65 foi limpa do dataframe por ser irrelevante...\n",
      "Coluna NORM_DDD_67 foi limpa do dataframe por ser irrelevante...\n",
      "Coluna NORM_DDD_44 foi limpa do dataframe por ser irrelevante...\n",
      "Coluna NORM_DDD_42 foi limpa do dataframe por ser irrelevante...\n",
      "Coluna NORM_DDD_89 foi limpa do dataframe por ser irrelevante...\n",
      "Coluna NORM_DDD_77 foi limpa do dataframe por ser irrelevante...\n",
      "Coluna NORM_DDD_46 foi limpa do dataframe por ser irrelevante...\n",
      "Coluna NORM_DDD_28 foi limpa do dataframe por ser irrelevante...\n",
      "Coluna NORM_DDD_27 foi limpa do dataframe por ser irrelevante...\n",
      "Coluna NORM_DDD_41 foi limpa do dataframe por ser irrelevante...\n",
      "Coluna NORM_DDD_48 foi limpa do dataframe por ser irrelevante...\n",
      "Coluna NORM_DDD_98 foi limpa do dataframe por ser irrelevante...\n",
      "Coluna NORM_DDD_18 foi limpa do dataframe por ser irrelevante...\n",
      "Coluna NORM_DDD_82 foi limpa do dataframe por ser irrelevante...\n",
      "Coluna NORM_DDD_16 foi limpa do dataframe por ser irrelevante...\n",
      "Coluna NORM_DDD_64 foi limpa do dataframe por ser irrelevante...\n",
      "Coluna NORM_DDD_15 foi limpa do dataframe por ser irrelevante...\n",
      "Coluna NORM_DDD_66 foi limpa do dataframe por ser irrelevante...\n",
      "Coluna NORM_DDD_73 foi limpa do dataframe por ser irrelevante...\n",
      "Coluna NORM_DDD_43 foi limpa do dataframe por ser irrelevante...\n",
      "Coluna NORM_DDD_12 foi limpa do dataframe por ser irrelevante...\n",
      "Coluna NORM_DDD_95 foi limpa do dataframe por ser irrelevante...\n",
      "Coluna NORM_DDD_55 foi limpa do dataframe por ser irrelevante...\n",
      "Coluna NORM_DDD_13 foi limpa do dataframe por ser irrelevante...\n",
      "Coluna NORM_DDD_74 foi limpa do dataframe por ser irrelevante...\n",
      "Coluna NORM_DDD_35 foi limpa do dataframe por ser irrelevante...\n",
      "Coluna NORM_DDD_93 foi limpa do dataframe por ser irrelevante...\n",
      "Coluna NORM_DDD_62 foi limpa do dataframe por ser irrelevante...\n",
      "Coluna NORM_DDD_17 foi limpa do dataframe por ser irrelevante...\n",
      "Coluna NORM_DDD_54 foi limpa do dataframe por ser irrelevante...\n",
      "Coluna NORM_DDD_47 foi limpa do dataframe por ser irrelevante...\n",
      "Coluna NORM_DDD_45 foi limpa do dataframe por ser irrelevante...\n",
      "Coluna NORM_DDD_87 foi limpa do dataframe por ser irrelevante...\n"
     ]
    }
   ],
   "source": [
    "def limpar_coluna_df(dataframe, coluna):\n",
    "    return dataframe.query(\"not ({} == 1 and NORM_CUP==0)\".format(coluna))\n",
    "\n",
    "def coluna_tem_cup(dataframe, coluna):\n",
    "    return len(dataframe.query(\"{} == 1 and NORM_CUP==1\".format(coluna)).index) > dimensionalidade_cup\n",
    "    \n",
    "colunas_para_limpar = []\n",
    "lista_colunas = chamadas.loc[:, 'NORM_CARTEIRA_A01':].columns.values\n",
    "for coluna in list(lista_colunas):\n",
    "    if not coluna_tem_cup(chamadas,coluna):\n",
    "        colunas_para_limpar.append(coluna)\n",
    "        print_log(\"Coluna {} foi limpa do dataframe por ser irrelevante...\".format(coluna))\n",
    "        \n"
   ]
  },
  {
   "cell_type": "markdown",
   "metadata": {},
   "source": [
    "Tendo as colunas irrelevantes, podemos agora limpar elas do nosso dataframe, oque vai fazer com ele fique com menos tamanho e com melhor precisão."
   ]
  },
  {
   "cell_type": "code",
   "execution_count": 10,
   "metadata": {},
   "outputs": [],
   "source": [
    "for coluna in colunas_para_limpar:\n",
    "    chamadas = limpar_coluna_df(chamadas,coluna)    \n",
    "    gc.collect()"
   ]
  },
  {
   "cell_type": "markdown",
   "metadata": {},
   "source": [
    "Podemos agora analisar o tamanho final do nosso dataframe:"
   ]
  },
  {
   "cell_type": "code",
   "execution_count": 11,
   "metadata": {},
   "outputs": [
    {
     "data": {
      "text/plain": [
       "449681"
      ]
     },
     "execution_count": 11,
     "metadata": {},
     "output_type": "execute_result"
    }
   ],
   "source": [
    "len(chamadas.index)"
   ]
  },
  {
   "cell_type": "markdown",
   "metadata": {},
   "source": [
    "Perfeito, então vamos embaralhar os dados e gerar os nossos dados de treinamento e teste. Vamos considerar 70% para treinamento e 30 % para teste. No final, apagamos o dataframe lido para economizar memoria"
   ]
  },
  {
   "cell_type": "code",
   "execution_count": 12,
   "metadata": {},
   "outputs": [
    {
     "name": "stdout",
     "output_type": "stream",
     "text": [
      "Criando Pickling de train e teste...\n"
     ]
    }
   ],
   "source": [
    "print_log(\"Criando Pickling de train e teste...\")\n",
    "chamadas = chamadas.sample(int(len(chamadas.index)))\n",
    "chamadas_train = chamadas.tail(int(len(chamadas.index) * 0.7))\n",
    "chamadas_test = chamadas.head(int(len(chamadas.index) * 0.3))\n",
    "del chamadas"
   ]
  },
  {
   "cell_type": "markdown",
   "metadata": {},
   "source": [
    "Criamos uma função para gerar um arquivo de referencia de colunas a serem usadas q que vai ser importante na hora de gerar a arvore de decisao..."
   ]
  },
  {
   "cell_type": "code",
   "execution_count": 13,
   "metadata": {},
   "outputs": [],
   "source": [
    "def create_column_reference(header_chamadas_x,arquivo_df_pickled_norm_train_x):\n",
    "    print_log(\"Criando Arquivo de referencia de colunas...\")\n",
    "    with open(arquivo_df_pickled_norm_train_x+\".txt\",\"w\") as f:\n",
    "        counter = 0\n",
    "        lista_header = list(header_chamadas_x.columns.values)\n",
    "        for header in lista_header:\n",
    "            f.write(\"{}-{}\\n\".format(counter,header))\n",
    "            counter=counter+1"
   ]
  },
  {
   "cell_type": "markdown",
   "metadata": {},
   "source": [
    "Criamos agora os nossos dataframes de X que são as features e as Y que são os alvos de predição. Também removemos qualquer linha em tentativas seja igual a zero, além de criar um arquivo de referencia com as colunas X que serão usadas no modelo. Esses dataframes serão convertidos para matrizes no formato numpy"
   ]
  },
  {
   "cell_type": "code",
   "execution_count": 14,
   "metadata": {},
   "outputs": [
    {
     "name": "stdout",
     "output_type": "stream",
     "text": [
      "Separando colunas em X e Y...\n",
      "Criando Arquivo de referencia de colunas...\n"
     ]
    }
   ],
   "source": [
    "print_log(\"Separando colunas em X e Y...\")        \n",
    "chamadas_train = chamadas_train[(chamadas_train.NORM_TENTATIVAS > 0)]\n",
    "create_column_reference(chamadas_train.loc[:, chamadas_train.columns.values[2]:'NORM_DDD_87'].head(1), arquivo_df_pickled_norm_train_x)\n",
    "chamadas_train_x = chamadas_train.loc[:, chamadas_train.columns.values[2]:'NORM_DDD_87'].as_matrix()\n",
    "chamadas_train_y = chamadas_train.NORM_CUP.as_matrix()\n",
    "chamadas_test = chamadas_test[(chamadas_test.NORM_TENTATIVAS > 0)]\n",
    "chamadas_test_x = chamadas_test.loc[:, chamadas_test.columns.values[2]:'NORM_DDD_87'].as_matrix()\n",
    "chamadas_test_y = chamadas_test.NORM_CUP.as_matrix()\n"
   ]
  },
  {
   "cell_type": "markdown",
   "metadata": {},
   "source": [
    "Após a criação das matrizes numpy, gravamos elas em arquivos."
   ]
  },
  {
   "cell_type": "code",
   "execution_count": 15,
   "metadata": {},
   "outputs": [
    {
     "name": "stdout",
     "output_type": "stream",
     "text": [
      "Criando arquivos finais em formato NUMPY para consumo pelo algoritmo...\n"
     ]
    }
   ],
   "source": [
    "print_log(\"Criando arquivos finais em formato NUMPY para consumo pelo algoritmo...\")        \n",
    "np.save(arquivo_df_pickled_norm_train_x,chamadas_train_x)\n",
    "np.save(arquivo_df_pickled_norm_train_y,chamadas_train_y)\n",
    "np.save(arquivo_df_pickled_norm_test_x,chamadas_test_x)\n",
    "np.save(arquivo_df_pickled_norm_test_y,chamadas_test_y)\n"
   ]
  },
  {
   "cell_type": "markdown",
   "metadata": {},
   "source": [
    "Apagamos todos os dados intermediários e rodamos o garbage collector para economizar memória."
   ]
  },
  {
   "cell_type": "code",
   "execution_count": 16,
   "metadata": {},
   "outputs": [
    {
     "name": "stdout",
     "output_type": "stream",
     "text": [
      "Removendo objetos desnecessarios\n"
     ]
    },
    {
     "data": {
      "text/plain": [
       "70"
      ]
     },
     "execution_count": 16,
     "metadata": {},
     "output_type": "execute_result"
    }
   ],
   "source": [
    "print_log(\"Removendo objetos desnecessarios\")        \n",
    "del chamadas_train_x\n",
    "del chamadas_train_y\n",
    "del chamadas_train\n",
    "del chamadas_test\n",
    "del chamadas_test_x\n",
    "del chamadas_test_y\n",
    "gc.collect()"
   ]
  },
  {
   "cell_type": "markdown",
   "metadata": {},
   "source": [
    "Carregamos os objetos numpy em memoria"
   ]
  },
  {
   "cell_type": "code",
   "execution_count": 17,
   "metadata": {},
   "outputs": [
    {
     "name": "stdout",
     "output_type": "stream",
     "text": [
      "Carregando objetos numpy\n"
     ]
    }
   ],
   "source": [
    "print_log(\"Carregando objetos numpy\")        \n",
    "train_x = np.load(arquivo_df_pickled_norm_train_x)\n",
    "train_y = np.load(arquivo_df_pickled_norm_train_y)\n",
    "test_x = np.load(arquivo_df_pickled_norm_test_x)\n",
    "test_y = np.load(arquivo_df_pickled_norm_test_y)"
   ]
  },
  {
   "cell_type": "markdown",
   "metadata": {},
   "source": [
    "Contamos quantos CUPS existem em treinamento e teste..."
   ]
  },
  {
   "cell_type": "code",
   "execution_count": 18,
   "metadata": {},
   "outputs": [
    {
     "name": "stdout",
     "output_type": "stream",
     "text": [
      "Train - CUPS Detectados 1989 num universo de 314776\n",
      "Test - CUPS Detectados 842 num universo de 134903\n"
     ]
    }
   ],
   "source": [
    "msg1 = \"Train - CUPS Detectados {} num universo de {}\".format(len([y for y in train_y if y >0]),len(train_y))\n",
    "msg2 = \"Test - CUPS Detectados {} num universo de {}\".format(len([y for y in test_y if y >0]),len(test_y))\n",
    "print_log(msg1)\n",
    "print_log(msg2)"
   ]
  },
  {
   "cell_type": "markdown",
   "metadata": {},
   "source": [
    "Configuramos os parametros para o XGBoost, especificando que queremos que ele seja o mais exato possivel, que a medida de erro é erro simples e que queremos apenas uma classificacao binaria com um maximo de 1000 interações"
   ]
  },
  {
   "cell_type": "code",
   "execution_count": 19,
   "metadata": {},
   "outputs": [],
   "source": [
    "param = {}\n",
    "param['eta'] = 0.2\n",
    "param['objective'] = 'binary:logistic'\n",
    "param['eval_metric'] = 'error'\n",
    "param['tree_method'] = 'exact'\n",
    "param['silent'] = 0\n",
    "num_round = 1000"
   ]
  },
  {
   "cell_type": "markdown",
   "metadata": {},
   "source": [
    "Após a definicão dos paramêtros de teste, criamos as matrizes no formato do XGBoost e treinamos o modelo."
   ]
  },
  {
   "cell_type": "code",
   "execution_count": 20,
   "metadata": {},
   "outputs": [
    {
     "name": "stdout",
     "output_type": "stream",
     "text": [
      "Starting model for params:{'silent': 0, 'eval_metric': 'error', 'eta': 0.2, 'tree_method': 'exact', 'objective': 'binary:logistic'}\n"
     ]
    }
   ],
   "source": [
    "gc.collect()\n",
    "print_log(\"Starting model for params:{}\".format(param))\n",
    "dtrain = xgb.DMatrix(train_x, train_y)\n",
    "dtest = xgb.DMatrix(test_x, test_y)\n",
    "gpu_res = {}\n",
    "booster = xgb.train(param, dtrain, num_round, evals=[], evals_result=gpu_res)"
   ]
  },
  {
   "cell_type": "markdown",
   "metadata": {},
   "source": [
    "Após o modelo ser treinado, podemos plotar ele... Para verificar que coluna é cada feature no modelo, por favor ver a lista em anexo no final desse notebook."
   ]
  },
  {
   "cell_type": "code",
   "execution_count": 21,
   "metadata": {},
   "outputs": [
    {
     "data": {
      "image/png": "[encoded data removed]",
      "text/plain": [
       "<matplotlib.figure.Figure at 0x7f8e081a2588>"
      ]
     },
     "metadata": {},
     "output_type": "display_data"
    }
   ],
   "source": [
    "%matplotlib inline\n",
    "rcParams['figure.figsize'] = 80,50\n",
    "plot_tree(booster, rankdir='LR')\n",
    "plt.show()"
   ]
  },
  {
   "cell_type": "markdown",
   "metadata": {},
   "source": [
    "Agora, vamos tentar predizer os dados com o nosso modelo treinado..."
   ]
  },
  {
   "cell_type": "code",
   "execution_count": 22,
   "metadata": {},
   "outputs": [],
   "source": [
    "test_y_pred = booster.predict(dtest)\n",
    "test_predictions = np.array([value for value in test_y_pred])"
   ]
  },
  {
   "cell_type": "markdown",
   "metadata": {},
   "source": [
    "E Finalmente medir a precisão da nossa predição... Tanto no total quanto em CUPs detectados."
   ]
  },
  {
   "cell_type": "code",
   "execution_count": 23,
   "metadata": {},
   "outputs": [
    {
     "name": "stdout",
     "output_type": "stream",
     "text": [
      "CUPS Previstos:383\n",
      "CUPS na Base Teste:842\n",
      "Accuracy Total:0.9965975552804608\n",
      "Accuracy em CUPs:0.45486935866983375\n"
     ]
    }
   ],
   "source": [
    "accuracy = accuracy_score(test_y, test_predictions.round())\n",
    "print_log(\"CUPS Previstos:{}\".format(len([x for x in test_predictions if x > 0.5])))\n",
    "print_log(\"CUPS na Base Teste:{}\".format(len([x for x in test_y if x > 0.5])))\n",
    "print_log(\"Accuracy Total:{}\".format(accuracy))\n",
    "print_log(\"Accuracy em CUPs:{}\".format(len([x for x in test_predictions if x > 0.5]) / len([x for x in test_y if x > 0.5])))"
   ]
  },
  {
   "cell_type": "markdown",
   "metadata": {},
   "source": [
    "Após, vamos salvar o modelo gerado em um arquivo para reuso..."
   ]
  },
  {
   "cell_type": "code",
   "execution_count": 24,
   "metadata": {},
   "outputs": [
    {
     "name": "stdout",
     "output_type": "stream",
     "text": [
      "Model saved as ../output/20171215.180229.model\n"
     ]
    }
   ],
   "source": [
    "save_file = \"../output/{}.model\".format(datetime.now().strftime(\"%Y%m%d.%H%M%S\"))\n",
    "with open(save_file, 'wb') as fp:\n",
    "    pickle.dump(booster, fp)    \n",
    "print_log(\"Model saved as {}\".format(save_file))"
   ]
  },
  {
   "cell_type": "code",
   "execution_count": 25,
   "metadata": {},
   "outputs": [
    {
     "name": "stdout",
     "output_type": "stream",
     "text": [
      "0-NORM_CARTEIRA_A01\n",
      "1-NORM_CARTEIRA_W01\n",
      "2-NORM_CARTEIRA_W02\n",
      "3-NORM_CARTEIRA_A02\n",
      "4-NORM_CARTEIRA_A03\n",
      "5-NORM_SEGMENTO_CR\n",
      "6-NORM_SEGMENTO_FA\n",
      "7-NORM_SEGMENTO_CC\n",
      "8-NORM_SEGMENTO_LC\n",
      "9-NORM_SEGMENTO_HC\n",
      "10-NORM_SEGMENTO_FT\n",
      "11-NORM_SEGMENTO_FC\n",
      "12-NORM_SEGMENTO_MA\n",
      "13-NORM_PROPENSAO_ALTA\n",
      "14-NORM_ORIGEM_BUREAU\n",
      "15-NORM_ORIGEM_BASE_INTERNA\n",
      "16-NORM_STATUS_BUREAU_Indefinido\n",
      "17-NORM_STATUS_BUREAU_Bom_menos\n",
      "18-NORM_STATUS_BUREAU_Bom\n",
      "19-NORM_STATUS_BUREAU_nan\n",
      "20-NORM_STATUS_INTERNA_Bom\n",
      "21-NORM_STATUS_INTERNA_Hot\n",
      "22-NORM_STATUS_INTERNA_Novo\n",
      "23-NORM_STATUS_INTERNA_Indefinido\n",
      "24-NORM_STATUS_INTERNA_Validado\n",
      "25-NORM_STATUS_TELEFONE_Indefinido\n",
      "26-NORM_STATUS_TELEFONE_Hot\n",
      "27-NORM_STATUS_TELEFONE_Validado\n",
      "28-NORM_STATUS_TELEFONE_Bom\n",
      "29-NORM_STATUS_TELEFONE_Bom_menos\n",
      "30-NORM_STATUS_TELEFONE_Novo\n",
      "31-NORM_DDD_63\n",
      "32-NORM_DDD_24\n",
      "33-NORM_DDD_96\n",
      "34-NORM_DDD_22\n",
      "35-NORM_DDD_38\n",
      "36-NORM_DDD_79\n",
      "37-NORM_DDD_69\n",
      "38-NORM_DDD_53\n",
      "39-NORM_DDD_34\n",
      "40-NORM_DDD_94\n",
      "41-NORM_DDD_84\n",
      "42-NORM_DDD_75\n",
      "43-NORM_DDD_88\n",
      "44-NORM_DDD_68\n",
      "45-NORM_DDD_14\n",
      "46-NORM_DDD_32\n",
      "47-NORM_DDD_85\n",
      "48-NORM_DDD_37\n",
      "49-NORM_DDD_91\n",
      "50-NORM_DDD_92\n",
      "51-NORM_DDD_99\n",
      "52-NORM_DDD_86\n",
      "53-NORM_DDD_97\n",
      "54-NORM_DDD_49\n",
      "55-NORM_DDD_33\n",
      "56-NORM_DDD_61\n",
      "57-NORM_DDD_65\n",
      "58-NORM_DDD_67\n",
      "59-NORM_DDD_44\n",
      "60-NORM_DDD_42\n",
      "61-NORM_DDD_89\n",
      "62-NORM_DDD_19\n",
      "63-NORM_DDD_77\n",
      "64-NORM_DDD_46\n",
      "65-NORM_DDD_28\n",
      "66-NORM_DDD_27\n",
      "67-NORM_DDD_51\n",
      "68-NORM_DDD_71\n",
      "69-NORM_DDD_41\n",
      "70-NORM_DDD_48\n",
      "71-NORM_DDD_98\n",
      "72-NORM_DDD_18\n",
      "73-NORM_DDD_82\n",
      "74-NORM_DDD_11\n",
      "75-NORM_DDD_16\n",
      "76-NORM_DDD_64\n",
      "77-NORM_DDD_15\n",
      "78-NORM_DDD_66\n",
      "79-NORM_DDD_73\n",
      "80-NORM_DDD_43\n",
      "81-NORM_DDD_12\n",
      "82-NORM_DDD_95\n",
      "83-NORM_DDD_83\n",
      "84-NORM_DDD_55\n",
      "85-NORM_DDD_13\n",
      "86-NORM_DDD_21\n",
      "87-NORM_DDD_74\n",
      "88-NORM_DDD_35\n",
      "89-NORM_DDD_93\n",
      "90-NORM_DDD_81\n",
      "91-NORM_DDD_62\n",
      "92-NORM_DDD_17\n",
      "93-NORM_DDD_54\n",
      "94-NORM_DDD_47\n",
      "95-NORM_DDD_31\n",
      "96-NORM_DDD_45\n",
      "97-NORM_DDD_87\n"
     ]
    }
   ],
   "source": [
    "%%bash \n",
    "\n",
    "cat ../intermediate/df.norm.train.x.pickle.npy.txt  "
   ]
  },
  {
   "cell_type": "code",
   "execution_count": null,
   "metadata": {},
   "outputs": [],
   "source": []
  }
 ],
 "metadata": {
  "kernelspec": {
   "display_name": "Python 3",
   "language": "python",
   "name": "python3"
  },
  "language_info": {
   "codemirror_mode": {
    "name": "ipython",
    "version": 3
   },
   "file_extension": ".py",
   "mimetype": "text/x-python",
   "name": "python",
   "nbconvert_exporter": "python",
   "pygments_lexer": "ipython3",
   "version": "3.5.2"
  }
 },
 "nbformat": 4,
 "nbformat_minor": 2
}
