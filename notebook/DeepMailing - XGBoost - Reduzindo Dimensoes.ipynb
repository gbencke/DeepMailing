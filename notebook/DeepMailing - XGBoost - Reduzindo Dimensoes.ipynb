{
 "cells": [
  {
   "cell_type": "markdown",
   "metadata": {},
   "source": [
    "# Deep Mailing - XGBoost Model - Reduzindo Dimensões"
   ]
  },
  {
   "cell_type": "markdown",
   "metadata": {},
   "source": [
    "O objetivo desse notebook é demonstrar a utilizacao do XGBoost para a criacao de arvores de decisão para a predição de CUPS em mailings.\n",
    "\n",
    "Em primeiro lugar, definimos os imports que iremos usar..."
   ]
  },
  {
   "cell_type": "code",
   "execution_count": 1,
   "metadata": {},
   "outputs": [
    {
     "name": "stderr",
     "output_type": "stream",
     "text": [
      "/home/ubuntu/git/DeepMailing/env/lib/python3.5/site-packages/sklearn/cross_validation.py:41: DeprecationWarning: This module was deprecated in version 0.18 in favor of the model_selection module into which all the refactored classes and functions are moved. Also note that the interface of the new CV iterators are different from that of this module. This module will be removed in 0.20.\n",
      "  \"This module will be removed in 0.20.\", DeprecationWarning)\n"
     ]
    }
   ],
   "source": [
    "import xgboost\n",
    "import numpy as np\n",
    "import os\n",
    "import sys\n",
    "import logging\n",
    "import gc\n",
    "import pickle as pickle\n",
    "import pandas as pd\n",
    "import dateutil.parser as parser\n",
    "import os.path\n",
    "import math\n",
    "from sklearn.metrics import accuracy_score,precision_score,recall_score\n",
    "from datetime import datetime\n",
    "import xgboost as xgb\n",
    "from xgboost import XGBClassifier\n",
    "from xgboost import plot_tree\n",
    "import matplotlib.pyplot as plt\n",
    "from matplotlib.pylab import rcParams"
   ]
  },
  {
   "cell_type": "markdown",
   "metadata": {},
   "source": [
    "Abaixo definimos os diretorios e nomes dos arquivos intermediarios."
   ]
  },
  {
   "cell_type": "code",
   "execution_count": 2,
   "metadata": {},
   "outputs": [],
   "source": [
    "log_location = \"../logs/\"\n",
    "arquivo_df_pickled_norm = \"../intermediate/df.norm.corr.pickle\"\n",
    "arquivo_df_pickled_norm_train = \"../intermediate/df.norm.train.pickle\"\n",
    "arquivo_df_pickled_norm_test = \"../intermediate/df.norm.test.pickle\"\n",
    "arquivo_df_pickled_norm_train_x = \"../intermediate/df.norm.train.x.pickle.npy\"\n",
    "arquivo_df_pickled_norm_train_y = \"../intermediate/df.norm.train.y.pickle.npy\"\n",
    "arquivo_df_pickled_norm_test_x = \"../intermediate/df.norm.test.x.pickle.npy\"\n",
    "arquivo_df_pickled_norm_test_y = \"../intermediate/df.norm.test.y.pickle.npy\""
   ]
  },
  {
   "cell_type": "markdown",
   "metadata": {},
   "source": [
    "Definimos o versampling que é o minimo de rows com a variavel alvo setado no dataset de treinamento"
   ]
  },
  {
   "cell_type": "code",
   "execution_count": 3,
   "metadata": {},
   "outputs": [],
   "source": [
    "Oversampling = False\n",
    "RateOversampling = 0.3"
   ]
  },
  {
   "cell_type": "markdown",
   "metadata": {},
   "source": [
    "Redefinimos o logger que iremos usar"
   ]
  },
  {
   "cell_type": "code",
   "execution_count": 4,
   "metadata": {},
   "outputs": [],
   "source": [
    "logger = logging.getLogger()\n",
    "logging.basicConfig(format=\"%(asctime)-15s %(message)s\",\n",
    "                    level=logging.DEBUG,\n",
    "                    filename=os.path.join(log_location,'xgboost.reduzindo.log.' + datetime.now().strftime(\"%Y%m%d%H%M%S.%f\") + '.log'))"
   ]
  },
  {
   "cell_type": "markdown",
   "metadata": {},
   "source": [
    "Criamos uma função para imprimir tanto no log quanto no notebook..."
   ]
  },
  {
   "cell_type": "code",
   "execution_count": 5,
   "metadata": {},
   "outputs": [],
   "source": [
    "def print_log(msg):\n",
    "    logging.debug(msg)\n",
    "    print(msg)    "
   ]
  },
  {
   "cell_type": "markdown",
   "metadata": {},
   "source": [
    "Carregamos para a memoria o arquivo normalizado e pickled que foi gerado no notebook de \"Preparação de Dados\"."
   ]
  },
  {
   "cell_type": "code",
   "execution_count": 6,
   "metadata": {},
   "outputs": [
    {
     "name": "stdout",
     "output_type": "stream",
     "text": [
      "Carregando Pickling normalizado:../intermediate/df.norm.corr.pickle\n"
     ]
    }
   ],
   "source": [
    "print_log(\"Carregando Pickling normalizado:{}\".format(arquivo_df_pickled_norm))    \n",
    "chamadas = pd.read_pickle(arquivo_df_pickled_norm)"
   ]
  },
  {
   "cell_type": "markdown",
   "metadata": {},
   "source": [
    "Verificamos as dimensões do dataframe carregado.... E imprimimos uma amostra do dado que precisamos com apenas as colunas relevantes... Como podemos perceber o nosso modelo considera apenas colunas com valores booleanos (0 ou 1)"
   ]
  },
  {
   "cell_type": "code",
   "execution_count": 7,
   "metadata": {},
   "outputs": [
    {
     "data": {
      "text/html": [
       "<div>\n",
       "<style scoped>\n",
       "    .dataframe tbody tr th:only-of-type {\n",
       "        vertical-align: middle;\n",
       "    }\n",
       "\n",
       "    .dataframe tbody tr th {\n",
       "        vertical-align: top;\n",
       "    }\n",
       "\n",
       "    .dataframe thead th {\n",
       "        text-align: right;\n",
       "    }\n",
       "</style>\n",
       "<table border=\"1\" class=\"dataframe\">\n",
       "  <thead>\n",
       "    <tr style=\"text-align: right;\">\n",
       "      <th></th>\n",
       "      <th>NORM_STATUS_TELEFONE_Hot</th>\n",
       "      <th>NORM_STATUS_INTERNA_Hot</th>\n",
       "      <th>NORM_STATUS_BUREAU_Bom</th>\n",
       "      <th>NORM_STATUS_INTERNA_Indefinido</th>\n",
       "      <th>NORM_CARTEIRA_A01</th>\n",
       "      <th>NORM_STATUS_TELEFONE_Indefinido</th>\n",
       "      <th>NORM_STATUS_BUREAU_Indefinido</th>\n",
       "      <th>NORM_CARTEIRA_W02</th>\n",
       "      <th>NORM_STATUS_TELEFONE_Bom</th>\n",
       "      <th>NORM_ORIGEM_BUREAU</th>\n",
       "      <th>...</th>\n",
       "      <th>NORM_ORIGEM_BASE_INTERNA</th>\n",
       "      <th>NORM_CARTEIRA_A03</th>\n",
       "      <th>NORM_CARTEIRA_A02</th>\n",
       "      <th>NORM_STATUS_INTERNA_Validado</th>\n",
       "      <th>NORM_CARTEIRA_W01</th>\n",
       "      <th>NORM_STATUS_TELEFONE_Sem_Tel</th>\n",
       "      <th>NORM_STATUS_TELEFONE_Validado</th>\n",
       "      <th>NORM_TENTATIVAS</th>\n",
       "      <th>NORM_LIGACOES</th>\n",
       "      <th>NORM_CUP</th>\n",
       "    </tr>\n",
       "  </thead>\n",
       "  <tbody>\n",
       "    <tr>\n",
       "      <th>0</th>\n",
       "      <td>0</td>\n",
       "      <td>0</td>\n",
       "      <td>0</td>\n",
       "      <td>1</td>\n",
       "      <td>0</td>\n",
       "      <td>1</td>\n",
       "      <td>0</td>\n",
       "      <td>0</td>\n",
       "      <td>0</td>\n",
       "      <td>0</td>\n",
       "      <td>...</td>\n",
       "      <td>1</td>\n",
       "      <td>0</td>\n",
       "      <td>1</td>\n",
       "      <td>0</td>\n",
       "      <td>0</td>\n",
       "      <td>0</td>\n",
       "      <td>0</td>\n",
       "      <td>0</td>\n",
       "      <td>1</td>\n",
       "      <td>0</td>\n",
       "    </tr>\n",
       "    <tr>\n",
       "      <th>1</th>\n",
       "      <td>0</td>\n",
       "      <td>0</td>\n",
       "      <td>0</td>\n",
       "      <td>0</td>\n",
       "      <td>0</td>\n",
       "      <td>0</td>\n",
       "      <td>0</td>\n",
       "      <td>0</td>\n",
       "      <td>0</td>\n",
       "      <td>1</td>\n",
       "      <td>...</td>\n",
       "      <td>0</td>\n",
       "      <td>1</td>\n",
       "      <td>0</td>\n",
       "      <td>1</td>\n",
       "      <td>0</td>\n",
       "      <td>0</td>\n",
       "      <td>0</td>\n",
       "      <td>1</td>\n",
       "      <td>1</td>\n",
       "      <td>0</td>\n",
       "    </tr>\n",
       "    <tr>\n",
       "      <th>2</th>\n",
       "      <td>0</td>\n",
       "      <td>0</td>\n",
       "      <td>0</td>\n",
       "      <td>1</td>\n",
       "      <td>0</td>\n",
       "      <td>1</td>\n",
       "      <td>0</td>\n",
       "      <td>1</td>\n",
       "      <td>0</td>\n",
       "      <td>0</td>\n",
       "      <td>...</td>\n",
       "      <td>1</td>\n",
       "      <td>0</td>\n",
       "      <td>0</td>\n",
       "      <td>0</td>\n",
       "      <td>0</td>\n",
       "      <td>0</td>\n",
       "      <td>0</td>\n",
       "      <td>0</td>\n",
       "      <td>0</td>\n",
       "      <td>0</td>\n",
       "    </tr>\n",
       "    <tr>\n",
       "      <th>3</th>\n",
       "      <td>0</td>\n",
       "      <td>0</td>\n",
       "      <td>0</td>\n",
       "      <td>1</td>\n",
       "      <td>0</td>\n",
       "      <td>1</td>\n",
       "      <td>0</td>\n",
       "      <td>1</td>\n",
       "      <td>0</td>\n",
       "      <td>0</td>\n",
       "      <td>...</td>\n",
       "      <td>1</td>\n",
       "      <td>0</td>\n",
       "      <td>0</td>\n",
       "      <td>0</td>\n",
       "      <td>0</td>\n",
       "      <td>0</td>\n",
       "      <td>0</td>\n",
       "      <td>0</td>\n",
       "      <td>0</td>\n",
       "      <td>0</td>\n",
       "    </tr>\n",
       "    <tr>\n",
       "      <th>4</th>\n",
       "      <td>0</td>\n",
       "      <td>0</td>\n",
       "      <td>0</td>\n",
       "      <td>1</td>\n",
       "      <td>0</td>\n",
       "      <td>1</td>\n",
       "      <td>1</td>\n",
       "      <td>1</td>\n",
       "      <td>0</td>\n",
       "      <td>1</td>\n",
       "      <td>...</td>\n",
       "      <td>0</td>\n",
       "      <td>0</td>\n",
       "      <td>0</td>\n",
       "      <td>0</td>\n",
       "      <td>0</td>\n",
       "      <td>0</td>\n",
       "      <td>0</td>\n",
       "      <td>0</td>\n",
       "      <td>0</td>\n",
       "      <td>0</td>\n",
       "    </tr>\n",
       "    <tr>\n",
       "      <th>5</th>\n",
       "      <td>0</td>\n",
       "      <td>0</td>\n",
       "      <td>0</td>\n",
       "      <td>1</td>\n",
       "      <td>1</td>\n",
       "      <td>1</td>\n",
       "      <td>0</td>\n",
       "      <td>0</td>\n",
       "      <td>0</td>\n",
       "      <td>0</td>\n",
       "      <td>...</td>\n",
       "      <td>1</td>\n",
       "      <td>0</td>\n",
       "      <td>0</td>\n",
       "      <td>0</td>\n",
       "      <td>0</td>\n",
       "      <td>0</td>\n",
       "      <td>0</td>\n",
       "      <td>1</td>\n",
       "      <td>1</td>\n",
       "      <td>0</td>\n",
       "    </tr>\n",
       "    <tr>\n",
       "      <th>6</th>\n",
       "      <td>0</td>\n",
       "      <td>0</td>\n",
       "      <td>0</td>\n",
       "      <td>1</td>\n",
       "      <td>0</td>\n",
       "      <td>0</td>\n",
       "      <td>0</td>\n",
       "      <td>0</td>\n",
       "      <td>0</td>\n",
       "      <td>1</td>\n",
       "      <td>...</td>\n",
       "      <td>0</td>\n",
       "      <td>0</td>\n",
       "      <td>1</td>\n",
       "      <td>0</td>\n",
       "      <td>0</td>\n",
       "      <td>0</td>\n",
       "      <td>0</td>\n",
       "      <td>0</td>\n",
       "      <td>0</td>\n",
       "      <td>0</td>\n",
       "    </tr>\n",
       "    <tr>\n",
       "      <th>7</th>\n",
       "      <td>0</td>\n",
       "      <td>0</td>\n",
       "      <td>1</td>\n",
       "      <td>0</td>\n",
       "      <td>0</td>\n",
       "      <td>0</td>\n",
       "      <td>0</td>\n",
       "      <td>0</td>\n",
       "      <td>1</td>\n",
       "      <td>1</td>\n",
       "      <td>...</td>\n",
       "      <td>0</td>\n",
       "      <td>0</td>\n",
       "      <td>0</td>\n",
       "      <td>0</td>\n",
       "      <td>1</td>\n",
       "      <td>0</td>\n",
       "      <td>0</td>\n",
       "      <td>1</td>\n",
       "      <td>0</td>\n",
       "      <td>0</td>\n",
       "    </tr>\n",
       "    <tr>\n",
       "      <th>8</th>\n",
       "      <td>1</td>\n",
       "      <td>1</td>\n",
       "      <td>1</td>\n",
       "      <td>0</td>\n",
       "      <td>0</td>\n",
       "      <td>0</td>\n",
       "      <td>0</td>\n",
       "      <td>1</td>\n",
       "      <td>0</td>\n",
       "      <td>1</td>\n",
       "      <td>...</td>\n",
       "      <td>0</td>\n",
       "      <td>0</td>\n",
       "      <td>0</td>\n",
       "      <td>0</td>\n",
       "      <td>0</td>\n",
       "      <td>0</td>\n",
       "      <td>0</td>\n",
       "      <td>0</td>\n",
       "      <td>0</td>\n",
       "      <td>0</td>\n",
       "    </tr>\n",
       "    <tr>\n",
       "      <th>9</th>\n",
       "      <td>0</td>\n",
       "      <td>0</td>\n",
       "      <td>0</td>\n",
       "      <td>1</td>\n",
       "      <td>0</td>\n",
       "      <td>1</td>\n",
       "      <td>0</td>\n",
       "      <td>0</td>\n",
       "      <td>0</td>\n",
       "      <td>0</td>\n",
       "      <td>...</td>\n",
       "      <td>1</td>\n",
       "      <td>0</td>\n",
       "      <td>1</td>\n",
       "      <td>0</td>\n",
       "      <td>0</td>\n",
       "      <td>0</td>\n",
       "      <td>0</td>\n",
       "      <td>0</td>\n",
       "      <td>1</td>\n",
       "      <td>0</td>\n",
       "    </tr>\n",
       "  </tbody>\n",
       "</table>\n",
       "<p>10 rows × 22 columns</p>\n",
       "</div>"
      ],
      "text/plain": [
       "   NORM_STATUS_TELEFONE_Hot  NORM_STATUS_INTERNA_Hot  NORM_STATUS_BUREAU_Bom  \\\n",
       "0                         0                        0                       0   \n",
       "1                         0                        0                       0   \n",
       "2                         0                        0                       0   \n",
       "3                         0                        0                       0   \n",
       "4                         0                        0                       0   \n",
       "5                         0                        0                       0   \n",
       "6                         0                        0                       0   \n",
       "7                         0                        0                       1   \n",
       "8                         1                        1                       1   \n",
       "9                         0                        0                       0   \n",
       "\n",
       "   NORM_STATUS_INTERNA_Indefinido  NORM_CARTEIRA_A01  \\\n",
       "0                               1                  0   \n",
       "1                               0                  0   \n",
       "2                               1                  0   \n",
       "3                               1                  0   \n",
       "4                               1                  0   \n",
       "5                               1                  1   \n",
       "6                               1                  0   \n",
       "7                               0                  0   \n",
       "8                               0                  0   \n",
       "9                               1                  0   \n",
       "\n",
       "   NORM_STATUS_TELEFONE_Indefinido  NORM_STATUS_BUREAU_Indefinido  \\\n",
       "0                                1                              0   \n",
       "1                                0                              0   \n",
       "2                                1                              0   \n",
       "3                                1                              0   \n",
       "4                                1                              1   \n",
       "5                                1                              0   \n",
       "6                                0                              0   \n",
       "7                                0                              0   \n",
       "8                                0                              0   \n",
       "9                                1                              0   \n",
       "\n",
       "   NORM_CARTEIRA_W02  NORM_STATUS_TELEFONE_Bom  NORM_ORIGEM_BUREAU    ...     \\\n",
       "0                  0                         0                   0    ...      \n",
       "1                  0                         0                   1    ...      \n",
       "2                  1                         0                   0    ...      \n",
       "3                  1                         0                   0    ...      \n",
       "4                  1                         0                   1    ...      \n",
       "5                  0                         0                   0    ...      \n",
       "6                  0                         0                   1    ...      \n",
       "7                  0                         1                   1    ...      \n",
       "8                  1                         0                   1    ...      \n",
       "9                  0                         0                   0    ...      \n",
       "\n",
       "   NORM_ORIGEM_BASE_INTERNA  NORM_CARTEIRA_A03  NORM_CARTEIRA_A02  \\\n",
       "0                         1                  0                  1   \n",
       "1                         0                  1                  0   \n",
       "2                         1                  0                  0   \n",
       "3                         1                  0                  0   \n",
       "4                         0                  0                  0   \n",
       "5                         1                  0                  0   \n",
       "6                         0                  0                  1   \n",
       "7                         0                  0                  0   \n",
       "8                         0                  0                  0   \n",
       "9                         1                  0                  1   \n",
       "\n",
       "   NORM_STATUS_INTERNA_Validado  NORM_CARTEIRA_W01  \\\n",
       "0                             0                  0   \n",
       "1                             1                  0   \n",
       "2                             0                  0   \n",
       "3                             0                  0   \n",
       "4                             0                  0   \n",
       "5                             0                  0   \n",
       "6                             0                  0   \n",
       "7                             0                  1   \n",
       "8                             0                  0   \n",
       "9                             0                  0   \n",
       "\n",
       "   NORM_STATUS_TELEFONE_Sem_Tel  NORM_STATUS_TELEFONE_Validado  \\\n",
       "0                             0                              0   \n",
       "1                             0                              0   \n",
       "2                             0                              0   \n",
       "3                             0                              0   \n",
       "4                             0                              0   \n",
       "5                             0                              0   \n",
       "6                             0                              0   \n",
       "7                             0                              0   \n",
       "8                             0                              0   \n",
       "9                             0                              0   \n",
       "\n",
       "   NORM_TENTATIVAS  NORM_LIGACOES  NORM_CUP  \n",
       "0                0              1         0  \n",
       "1                1              1         0  \n",
       "2                0              0         0  \n",
       "3                0              0         0  \n",
       "4                0              0         0  \n",
       "5                1              1         0  \n",
       "6                0              0         0  \n",
       "7                1              0         0  \n",
       "8                0              0         0  \n",
       "9                0              1         0  \n",
       "\n",
       "[10 rows x 22 columns]"
      ]
     },
     "execution_count": 7,
     "metadata": {},
     "output_type": "execute_result"
    }
   ],
   "source": [
    "chamadas.head(10)"
   ]
  },
  {
   "cell_type": "code",
   "execution_count": 8,
   "metadata": {},
   "outputs": [
    {
     "name": "stdout",
     "output_type": "stream",
     "text": [
      "(9586480, 22)\n"
     ]
    },
    {
     "data": {
      "text/html": [
       "<div>\n",
       "<style scoped>\n",
       "    .dataframe tbody tr th:only-of-type {\n",
       "        vertical-align: middle;\n",
       "    }\n",
       "\n",
       "    .dataframe tbody tr th {\n",
       "        vertical-align: top;\n",
       "    }\n",
       "\n",
       "    .dataframe thead th {\n",
       "        text-align: right;\n",
       "    }\n",
       "</style>\n",
       "<table border=\"1\" class=\"dataframe\">\n",
       "  <thead>\n",
       "    <tr style=\"text-align: right;\">\n",
       "      <th></th>\n",
       "      <th>NORM_STATUS_TELEFONE_Hot</th>\n",
       "      <th>NORM_STATUS_INTERNA_Hot</th>\n",
       "      <th>NORM_STATUS_BUREAU_Bom</th>\n",
       "      <th>NORM_STATUS_INTERNA_Indefinido</th>\n",
       "      <th>NORM_CARTEIRA_A01</th>\n",
       "      <th>NORM_STATUS_TELEFONE_Indefinido</th>\n",
       "      <th>NORM_STATUS_BUREAU_Indefinido</th>\n",
       "      <th>NORM_CARTEIRA_W02</th>\n",
       "      <th>NORM_STATUS_TELEFONE_Bom</th>\n",
       "      <th>NORM_ORIGEM_BUREAU</th>\n",
       "      <th>...</th>\n",
       "      <th>NORM_STATUS_TELEFONE_Bom_menos</th>\n",
       "      <th>NORM_ORIGEM_BASE_INTERNA</th>\n",
       "      <th>NORM_CARTEIRA_A03</th>\n",
       "      <th>NORM_CARTEIRA_A02</th>\n",
       "      <th>NORM_STATUS_INTERNA_Validado</th>\n",
       "      <th>NORM_CARTEIRA_W01</th>\n",
       "      <th>NORM_STATUS_TELEFONE_Sem_Tel</th>\n",
       "      <th>NORM_STATUS_TELEFONE_Validado</th>\n",
       "      <th>NORM_TENTATIVAS</th>\n",
       "      <th>NORM_LIGACOES</th>\n",
       "    </tr>\n",
       "  </thead>\n",
       "  <tbody>\n",
       "    <tr>\n",
       "      <th>0</th>\n",
       "      <td>0</td>\n",
       "      <td>0</td>\n",
       "      <td>0</td>\n",
       "      <td>1</td>\n",
       "      <td>0</td>\n",
       "      <td>1</td>\n",
       "      <td>0</td>\n",
       "      <td>0</td>\n",
       "      <td>0</td>\n",
       "      <td>0</td>\n",
       "      <td>...</td>\n",
       "      <td>0</td>\n",
       "      <td>1</td>\n",
       "      <td>0</td>\n",
       "      <td>1</td>\n",
       "      <td>0</td>\n",
       "      <td>0</td>\n",
       "      <td>0</td>\n",
       "      <td>0</td>\n",
       "      <td>0</td>\n",
       "      <td>1</td>\n",
       "    </tr>\n",
       "    <tr>\n",
       "      <th>1</th>\n",
       "      <td>0</td>\n",
       "      <td>0</td>\n",
       "      <td>0</td>\n",
       "      <td>0</td>\n",
       "      <td>0</td>\n",
       "      <td>0</td>\n",
       "      <td>0</td>\n",
       "      <td>0</td>\n",
       "      <td>0</td>\n",
       "      <td>1</td>\n",
       "      <td>...</td>\n",
       "      <td>1</td>\n",
       "      <td>0</td>\n",
       "      <td>1</td>\n",
       "      <td>0</td>\n",
       "      <td>1</td>\n",
       "      <td>0</td>\n",
       "      <td>0</td>\n",
       "      <td>0</td>\n",
       "      <td>1</td>\n",
       "      <td>1</td>\n",
       "    </tr>\n",
       "    <tr>\n",
       "      <th>2</th>\n",
       "      <td>0</td>\n",
       "      <td>0</td>\n",
       "      <td>0</td>\n",
       "      <td>1</td>\n",
       "      <td>0</td>\n",
       "      <td>1</td>\n",
       "      <td>0</td>\n",
       "      <td>1</td>\n",
       "      <td>0</td>\n",
       "      <td>0</td>\n",
       "      <td>...</td>\n",
       "      <td>0</td>\n",
       "      <td>1</td>\n",
       "      <td>0</td>\n",
       "      <td>0</td>\n",
       "      <td>0</td>\n",
       "      <td>0</td>\n",
       "      <td>0</td>\n",
       "      <td>0</td>\n",
       "      <td>0</td>\n",
       "      <td>0</td>\n",
       "    </tr>\n",
       "    <tr>\n",
       "      <th>3</th>\n",
       "      <td>0</td>\n",
       "      <td>0</td>\n",
       "      <td>0</td>\n",
       "      <td>1</td>\n",
       "      <td>0</td>\n",
       "      <td>1</td>\n",
       "      <td>0</td>\n",
       "      <td>1</td>\n",
       "      <td>0</td>\n",
       "      <td>0</td>\n",
       "      <td>...</td>\n",
       "      <td>0</td>\n",
       "      <td>1</td>\n",
       "      <td>0</td>\n",
       "      <td>0</td>\n",
       "      <td>0</td>\n",
       "      <td>0</td>\n",
       "      <td>0</td>\n",
       "      <td>0</td>\n",
       "      <td>0</td>\n",
       "      <td>0</td>\n",
       "    </tr>\n",
       "    <tr>\n",
       "      <th>4</th>\n",
       "      <td>0</td>\n",
       "      <td>0</td>\n",
       "      <td>0</td>\n",
       "      <td>1</td>\n",
       "      <td>0</td>\n",
       "      <td>1</td>\n",
       "      <td>1</td>\n",
       "      <td>1</td>\n",
       "      <td>0</td>\n",
       "      <td>1</td>\n",
       "      <td>...</td>\n",
       "      <td>0</td>\n",
       "      <td>0</td>\n",
       "      <td>0</td>\n",
       "      <td>0</td>\n",
       "      <td>0</td>\n",
       "      <td>0</td>\n",
       "      <td>0</td>\n",
       "      <td>0</td>\n",
       "      <td>0</td>\n",
       "      <td>0</td>\n",
       "    </tr>\n",
       "    <tr>\n",
       "      <th>5</th>\n",
       "      <td>0</td>\n",
       "      <td>0</td>\n",
       "      <td>0</td>\n",
       "      <td>1</td>\n",
       "      <td>1</td>\n",
       "      <td>1</td>\n",
       "      <td>0</td>\n",
       "      <td>0</td>\n",
       "      <td>0</td>\n",
       "      <td>0</td>\n",
       "      <td>...</td>\n",
       "      <td>0</td>\n",
       "      <td>1</td>\n",
       "      <td>0</td>\n",
       "      <td>0</td>\n",
       "      <td>0</td>\n",
       "      <td>0</td>\n",
       "      <td>0</td>\n",
       "      <td>0</td>\n",
       "      <td>1</td>\n",
       "      <td>1</td>\n",
       "    </tr>\n",
       "    <tr>\n",
       "      <th>6</th>\n",
       "      <td>0</td>\n",
       "      <td>0</td>\n",
       "      <td>0</td>\n",
       "      <td>1</td>\n",
       "      <td>0</td>\n",
       "      <td>0</td>\n",
       "      <td>0</td>\n",
       "      <td>0</td>\n",
       "      <td>0</td>\n",
       "      <td>1</td>\n",
       "      <td>...</td>\n",
       "      <td>1</td>\n",
       "      <td>0</td>\n",
       "      <td>0</td>\n",
       "      <td>1</td>\n",
       "      <td>0</td>\n",
       "      <td>0</td>\n",
       "      <td>0</td>\n",
       "      <td>0</td>\n",
       "      <td>0</td>\n",
       "      <td>0</td>\n",
       "    </tr>\n",
       "    <tr>\n",
       "      <th>7</th>\n",
       "      <td>0</td>\n",
       "      <td>0</td>\n",
       "      <td>1</td>\n",
       "      <td>0</td>\n",
       "      <td>0</td>\n",
       "      <td>0</td>\n",
       "      <td>0</td>\n",
       "      <td>0</td>\n",
       "      <td>1</td>\n",
       "      <td>1</td>\n",
       "      <td>...</td>\n",
       "      <td>0</td>\n",
       "      <td>0</td>\n",
       "      <td>0</td>\n",
       "      <td>0</td>\n",
       "      <td>0</td>\n",
       "      <td>1</td>\n",
       "      <td>0</td>\n",
       "      <td>0</td>\n",
       "      <td>1</td>\n",
       "      <td>0</td>\n",
       "    </tr>\n",
       "    <tr>\n",
       "      <th>8</th>\n",
       "      <td>1</td>\n",
       "      <td>1</td>\n",
       "      <td>1</td>\n",
       "      <td>0</td>\n",
       "      <td>0</td>\n",
       "      <td>0</td>\n",
       "      <td>0</td>\n",
       "      <td>1</td>\n",
       "      <td>0</td>\n",
       "      <td>1</td>\n",
       "      <td>...</td>\n",
       "      <td>0</td>\n",
       "      <td>0</td>\n",
       "      <td>0</td>\n",
       "      <td>0</td>\n",
       "      <td>0</td>\n",
       "      <td>0</td>\n",
       "      <td>0</td>\n",
       "      <td>0</td>\n",
       "      <td>0</td>\n",
       "      <td>0</td>\n",
       "    </tr>\n",
       "    <tr>\n",
       "      <th>9</th>\n",
       "      <td>0</td>\n",
       "      <td>0</td>\n",
       "      <td>0</td>\n",
       "      <td>1</td>\n",
       "      <td>0</td>\n",
       "      <td>1</td>\n",
       "      <td>0</td>\n",
       "      <td>0</td>\n",
       "      <td>0</td>\n",
       "      <td>0</td>\n",
       "      <td>...</td>\n",
       "      <td>0</td>\n",
       "      <td>1</td>\n",
       "      <td>0</td>\n",
       "      <td>1</td>\n",
       "      <td>0</td>\n",
       "      <td>0</td>\n",
       "      <td>0</td>\n",
       "      <td>0</td>\n",
       "      <td>0</td>\n",
       "      <td>1</td>\n",
       "    </tr>\n",
       "  </tbody>\n",
       "</table>\n",
       "<p>10 rows × 21 columns</p>\n",
       "</div>"
      ],
      "text/plain": [
       "   NORM_STATUS_TELEFONE_Hot  NORM_STATUS_INTERNA_Hot  NORM_STATUS_BUREAU_Bom  \\\n",
       "0                         0                        0                       0   \n",
       "1                         0                        0                       0   \n",
       "2                         0                        0                       0   \n",
       "3                         0                        0                       0   \n",
       "4                         0                        0                       0   \n",
       "5                         0                        0                       0   \n",
       "6                         0                        0                       0   \n",
       "7                         0                        0                       1   \n",
       "8                         1                        1                       1   \n",
       "9                         0                        0                       0   \n",
       "\n",
       "   NORM_STATUS_INTERNA_Indefinido  NORM_CARTEIRA_A01  \\\n",
       "0                               1                  0   \n",
       "1                               0                  0   \n",
       "2                               1                  0   \n",
       "3                               1                  0   \n",
       "4                               1                  0   \n",
       "5                               1                  1   \n",
       "6                               1                  0   \n",
       "7                               0                  0   \n",
       "8                               0                  0   \n",
       "9                               1                  0   \n",
       "\n",
       "   NORM_STATUS_TELEFONE_Indefinido  NORM_STATUS_BUREAU_Indefinido  \\\n",
       "0                                1                              0   \n",
       "1                                0                              0   \n",
       "2                                1                              0   \n",
       "3                                1                              0   \n",
       "4                                1                              1   \n",
       "5                                1                              0   \n",
       "6                                0                              0   \n",
       "7                                0                              0   \n",
       "8                                0                              0   \n",
       "9                                1                              0   \n",
       "\n",
       "   NORM_CARTEIRA_W02  NORM_STATUS_TELEFONE_Bom  NORM_ORIGEM_BUREAU  \\\n",
       "0                  0                         0                   0   \n",
       "1                  0                         0                   1   \n",
       "2                  1                         0                   0   \n",
       "3                  1                         0                   0   \n",
       "4                  1                         0                   1   \n",
       "5                  0                         0                   0   \n",
       "6                  0                         0                   1   \n",
       "7                  0                         1                   1   \n",
       "8                  1                         0                   1   \n",
       "9                  0                         0                   0   \n",
       "\n",
       "       ...        NORM_STATUS_TELEFONE_Bom_menos  NORM_ORIGEM_BASE_INTERNA  \\\n",
       "0      ...                                     0                         1   \n",
       "1      ...                                     1                         0   \n",
       "2      ...                                     0                         1   \n",
       "3      ...                                     0                         1   \n",
       "4      ...                                     0                         0   \n",
       "5      ...                                     0                         1   \n",
       "6      ...                                     1                         0   \n",
       "7      ...                                     0                         0   \n",
       "8      ...                                     0                         0   \n",
       "9      ...                                     0                         1   \n",
       "\n",
       "   NORM_CARTEIRA_A03  NORM_CARTEIRA_A02  NORM_STATUS_INTERNA_Validado  \\\n",
       "0                  0                  1                             0   \n",
       "1                  1                  0                             1   \n",
       "2                  0                  0                             0   \n",
       "3                  0                  0                             0   \n",
       "4                  0                  0                             0   \n",
       "5                  0                  0                             0   \n",
       "6                  0                  1                             0   \n",
       "7                  0                  0                             0   \n",
       "8                  0                  0                             0   \n",
       "9                  0                  1                             0   \n",
       "\n",
       "   NORM_CARTEIRA_W01  NORM_STATUS_TELEFONE_Sem_Tel  \\\n",
       "0                  0                             0   \n",
       "1                  0                             0   \n",
       "2                  0                             0   \n",
       "3                  0                             0   \n",
       "4                  0                             0   \n",
       "5                  0                             0   \n",
       "6                  0                             0   \n",
       "7                  1                             0   \n",
       "8                  0                             0   \n",
       "9                  0                             0   \n",
       "\n",
       "   NORM_STATUS_TELEFONE_Validado  NORM_TENTATIVAS  NORM_LIGACOES  \n",
       "0                              0                0              1  \n",
       "1                              0                1              1  \n",
       "2                              0                0              0  \n",
       "3                              0                0              0  \n",
       "4                              0                0              0  \n",
       "5                              0                1              1  \n",
       "6                              0                0              0  \n",
       "7                              0                1              0  \n",
       "8                              0                0              0  \n",
       "9                              0                0              1  \n",
       "\n",
       "[10 rows x 21 columns]"
      ]
     },
     "execution_count": 8,
     "metadata": {},
     "output_type": "execute_result"
    }
   ],
   "source": [
    "print_log(chamadas.shape)\n",
    "chamadas.loc[:, :'NORM_LIGACOES'].head(10)"
   ]
  },
  {
   "cell_type": "markdown",
   "metadata": {},
   "source": [
    "Para tratarmos as colunas de forma correta, precisamos eliminar os caracteres especiais das colunas, principalmente o espaco e o sinal de - para isso iremos rodar o codigo abaixo para tratar."
   ]
  },
  {
   "cell_type": "code",
   "execution_count": 9,
   "metadata": {},
   "outputs": [],
   "source": [
    "cols = chamadas.columns\n",
    "cols = cols.map(lambda x: x.replace(' ', '_').replace('-','menos'))\n",
    "chamadas.columns = cols"
   ]
  },
  {
   "cell_type": "markdown",
   "metadata": {},
   "source": [
    "Podemos agora analisar o tamanho final do nosso dataframe:"
   ]
  },
  {
   "cell_type": "code",
   "execution_count": 10,
   "metadata": {},
   "outputs": [
    {
     "name": "stdout",
     "output_type": "stream",
     "text": [
      "Total chamadas:9586480\n"
     ]
    }
   ],
   "source": [
    "total_chamadas = len(chamadas.index)\n",
    "print_log(\"Total chamadas:{}\".format(total_chamadas))"
   ]
  },
  {
   "cell_type": "markdown",
   "metadata": {},
   "source": [
    "Perfeito, então vamos embaralhar os dados e gerar os nossos dados de treinamento e teste. Vamos considerar 70% para treinamento e 30 % para teste. No final, apagamos o dataframe lido para economizar memoria"
   ]
  },
  {
   "cell_type": "code",
   "execution_count": 11,
   "metadata": {},
   "outputs": [
    {
     "name": "stdout",
     "output_type": "stream",
     "text": [
      "Criando Pickling de train e teste...\n"
     ]
    }
   ],
   "source": [
    "print_log(\"Criando Pickling de train e teste...\")\n",
    "chamadas = chamadas.sample(int(len(chamadas.index)))\n",
    "chamadas_train = chamadas.tail(int(len(chamadas.index) * 0.7))\n",
    "chamadas_test = chamadas.head(int(len(chamadas.index) * 0.3))\n",
    "del chamadas"
   ]
  },
  {
   "cell_type": "markdown",
   "metadata": {},
   "source": [
    "Criamos uma função para gerar um arquivo de referencia de colunas a serem usadas q que vai ser importante na hora de gerar a arvore de decisao..."
   ]
  },
  {
   "cell_type": "code",
   "execution_count": 12,
   "metadata": {},
   "outputs": [],
   "source": [
    "def create_column_reference(header_chamadas_x,arquivo_df_pickled_norm_train_x):\n",
    "    print_log(\"Criando Arquivo de referencia de colunas...\")\n",
    "    with open(arquivo_df_pickled_norm_train_x+\".txt\",\"w\") as f:\n",
    "        counter = 0\n",
    "        lista_header = list(header_chamadas_x.columns.values)\n",
    "        for header in lista_header:\n",
    "            f.write(\"{}-{}\\n\".format(counter,header))\n",
    "            counter=counter+1"
   ]
  },
  {
   "cell_type": "markdown",
   "metadata": {},
   "source": [
    "Criamos agora os nossos dataframes de X que são as features e as Y que são os alvos de predição. Também removemos qualquer linha em tentativas seja igual a zero, além de criar um arquivo de referencia com as colunas X que serão usadas no modelo. Esses dataframes serão convertidos para matrizes no formato numpy"
   ]
  },
  {
   "cell_type": "code",
   "execution_count": 13,
   "metadata": {},
   "outputs": [
    {
     "name": "stdout",
     "output_type": "stream",
     "text": [
      "Separando colunas em X e Y...\n",
      "Criando Arquivo de referencia de colunas...\n"
     ]
    }
   ],
   "source": [
    "print_log(\"Separando colunas em X e Y...\")        \n",
    "create_column_reference(chamadas_train.loc[:, :'NORM_LIGACOES'].head(1), arquivo_df_pickled_norm_train_x)\n",
    "chamadas_train_x = chamadas_train.loc[:, :'NORM_LIGACOES'].as_matrix()\n",
    "chamadas_train_y = chamadas_train.NORM_CUP.as_matrix()\n",
    "chamadas_test_x = chamadas_test.loc[:, :'NORM_LIGACOES'].as_matrix()\n",
    "chamadas_test_y = chamadas_test.NORM_CUP.as_matrix()\n"
   ]
  },
  {
   "cell_type": "markdown",
   "metadata": {},
   "source": [
    "Após a criação das matrizes numpy, gravamos elas em arquivos."
   ]
  },
  {
   "cell_type": "code",
   "execution_count": 14,
   "metadata": {},
   "outputs": [
    {
     "name": "stdout",
     "output_type": "stream",
     "text": [
      "Criando arquivos finais em formato NUMPY para consumo pelo algoritmo...\n"
     ]
    }
   ],
   "source": [
    "print_log(\"Criando arquivos finais em formato NUMPY para consumo pelo algoritmo...\")        \n",
    "np.save(arquivo_df_pickled_norm_train_x,chamadas_train_x)\n",
    "np.save(arquivo_df_pickled_norm_train_y,chamadas_train_y)\n",
    "np.save(arquivo_df_pickled_norm_test_x,chamadas_test_x)\n",
    "np.save(arquivo_df_pickled_norm_test_y,chamadas_test_y)\n"
   ]
  },
  {
   "cell_type": "markdown",
   "metadata": {},
   "source": [
    "Apagamos todos os dados intermediários e rodamos o garbage collector para economizar memória."
   ]
  },
  {
   "cell_type": "code",
   "execution_count": 15,
   "metadata": {},
   "outputs": [
    {
     "name": "stdout",
     "output_type": "stream",
     "text": [
      "Removendo objetos desnecessarios\n"
     ]
    },
    {
     "data": {
      "text/plain": [
       "95"
      ]
     },
     "execution_count": 15,
     "metadata": {},
     "output_type": "execute_result"
    }
   ],
   "source": [
    "print_log(\"Removendo objetos desnecessarios\")        \n",
    "del chamadas_train_x\n",
    "del chamadas_train_y\n",
    "del chamadas_train\n",
    "del chamadas_test\n",
    "del chamadas_test_x\n",
    "del chamadas_test_y\n",
    "gc.collect()"
   ]
  },
  {
   "cell_type": "markdown",
   "metadata": {},
   "source": [
    "Carregamos os objetos numpy em memoria"
   ]
  },
  {
   "cell_type": "code",
   "execution_count": 16,
   "metadata": {},
   "outputs": [
    {
     "name": "stdout",
     "output_type": "stream",
     "text": [
      "Carregando objetos numpy\n"
     ]
    }
   ],
   "source": [
    "print_log(\"Carregando objetos numpy\")        \n",
    "train_x = np.load(arquivo_df_pickled_norm_train_x)\n",
    "train_y = np.load(arquivo_df_pickled_norm_train_y)\n",
    "test_x = np.load(arquivo_df_pickled_norm_test_x)\n",
    "test_y = np.load(arquivo_df_pickled_norm_test_y)"
   ]
  },
  {
   "cell_type": "markdown",
   "metadata": {},
   "source": [
    "Contamos quantos CUPS existem em treinamento e teste..."
   ]
  },
  {
   "cell_type": "code",
   "execution_count": 17,
   "metadata": {},
   "outputs": [
    {
     "name": "stdout",
     "output_type": "stream",
     "text": [
      "Train - CUPS Detectados 16485 num universo de 6710536\n",
      "Test - CUPS Detectados 7111 num universo de 2875944\n"
     ]
    }
   ],
   "source": [
    "msg1 = \"Train - CUPS Detectados {} num universo de {}\".format(len([y for y in train_y if y >0]),len(train_y))\n",
    "msg2 = \"Test - CUPS Detectados {} num universo de {}\".format(len([y for y in test_y if y >0]),len(test_y))\n",
    "print_log(msg1)\n",
    "print_log(msg2)"
   ]
  },
  {
   "cell_type": "markdown",
   "metadata": {},
   "source": [
    "Configuramos os parametros para o XGBoost, especificando que queremos que ele seja o mais exato possivel, que a medida de erro é erro simples e que queremos apenas uma classificacao binaria com um maximo de 1000 interações"
   ]
  },
  {
   "cell_type": "code",
   "execution_count": 18,
   "metadata": {},
   "outputs": [],
   "source": [
    "param = {}\n",
    "param['eta'] = 0.3\n",
    "param['objective'] = 'binary:logistic'\n",
    "param['eval_metric'] = 'auc'\n",
    "param['tree_method'] = 'exact'\n",
    "param['silent'] = 0\n",
    "param['max_depth'] = 10\n",
    "num_round = 1000"
   ]
  },
  {
   "cell_type": "markdown",
   "metadata": {},
   "source": [
    "Após a definicão dos paramêtros de teste, criamos as matrizes no formato do XGBoost e treinamos o modelo."
   ]
  },
  {
   "cell_type": "code",
   "execution_count": 19,
   "metadata": {},
   "outputs": [
    {
     "name": "stdout",
     "output_type": "stream",
     "text": [
      "Starting model for params:{'objective': 'binary:logistic', 'eta': 0.3, 'silent': 0, 'tree_method': 'exact', 'eval_metric': 'auc', 'max_depth': 10}\n"
     ]
    }
   ],
   "source": [
    "gc.collect()\n",
    "print_log(\"Starting model for params:{}\".format(param))\n",
    "dtrain = xgb.DMatrix(train_x, train_y)\n",
    "dtest = xgb.DMatrix(test_x, test_y)\n"
   ]
  },
  {
   "cell_type": "code",
   "execution_count": null,
   "metadata": {},
   "outputs": [
    {
     "name": "stdout",
     "output_type": "stream",
     "text": [
      "ratio:406.0692144373673\n"
     ]
    }
   ],
   "source": [
    "train_labels = dtrain.get_label()\n",
    "ratio = float(np.sum(train_labels == 0)) / np.sum(train_labels == 1) \n",
    "param['scale_pos_weight'] = ratio\n",
    "print_log(\"ratio:{}\".format(ratio))"
   ]
  },
  {
   "cell_type": "code",
   "execution_count": null,
   "metadata": {},
   "outputs": [],
   "source": [
    "gpu_res = {}\n",
    "booster = xgb.train(param, dtrain, num_round, evals=[], evals_result=gpu_res)"
   ]
  },
  {
   "cell_type": "markdown",
   "metadata": {},
   "source": [
    "Após o modelo ser treinado, podemos plotar ele... Para verificar que coluna é cada feature no modelo, por favor ver a lista em anexo no final desse notebook."
   ]
  },
  {
   "cell_type": "code",
   "execution_count": null,
   "metadata": {},
   "outputs": [],
   "source": [
    "%matplotlib inline\n",
    "rcParams['figure.figsize'] = 80,50\n",
    "plot_tree(booster, rankdir='LR')\n",
    "plt.show()"
   ]
  },
  {
   "cell_type": "markdown",
   "metadata": {},
   "source": [
    "Agora, vamos tentar predizer os dados com o nosso modelo treinado..."
   ]
  },
  {
   "cell_type": "code",
   "execution_count": null,
   "metadata": {},
   "outputs": [],
   "source": [
    "test_y_pred = booster.predict(dtest)\n",
    "test_predictions = np.array([value for value in test_y_pred])"
   ]
  },
  {
   "cell_type": "markdown",
   "metadata": {},
   "source": [
    "E Finalmente medir a precisão da nossa predição... Tanto no total quanto em CUPs detectados."
   ]
  },
  {
   "cell_type": "code",
   "execution_count": null,
   "metadata": {},
   "outputs": [],
   "source": [
    "accuracy = accuracy_score(test_y, test_predictions.round())\n",
    "precision = precision_score(test_y, test_predictions.round())\n",
    "recall = recall_score(test_y, test_predictions.round())\n",
    "\n",
    "print_log(\"CUPS Previstos:{}\".format(len([x for x in test_predictions if x > 0.5])))\n",
    "print_log(\"CUPS na Base Teste:{}\".format(len([x for x in test_y if x > 0.5])))\n",
    "print_log(\"Accuracy Total:{}\".format(accuracy))\n",
    "print_log(\"Accuracy em CUPs:{}\".format(len([x for x in test_predictions if x > 0.5]) / len([x for x in test_y if x > 0.5])))\n",
    "print_log(\"Precision:{}\".format(precision))\n",
    "print_log(\"Recall:{}\".format(recall))"
   ]
  },
  {
   "cell_type": "markdown",
   "metadata": {},
   "source": [
    "Após, vamos salvar o modelo gerado em um arquivo para reuso..."
   ]
  },
  {
   "cell_type": "code",
   "execution_count": null,
   "metadata": {},
   "outputs": [],
   "source": [
    "save_file = \"../output/{}.model\".format(datetime.now().strftime(\"%Y%m%d.%H%M%S\"))\n",
    "with open(save_file, 'wb') as fp:\n",
    "    pickle.dump(booster, fp)    \n",
    "print_log(\"Model saved as {}\".format(save_file))"
   ]
  },
  {
   "cell_type": "code",
   "execution_count": null,
   "metadata": {},
   "outputs": [],
   "source": [
    "%%bash \n",
    "\n",
    "cat ../intermediate/df.norm.train.x.pickle.npy.txt  "
   ]
  }
 ],
 "metadata": {
  "kernelspec": {
   "display_name": "Python 3",
   "language": "python",
   "name": "python3"
  },
  "language_info": {
   "codemirror_mode": {
    "name": "ipython",
    "version": 3
   },
   "file_extension": ".py",
   "mimetype": "text/x-python",
   "name": "python",
   "nbconvert_exporter": "python",
   "pygments_lexer": "ipython3",
   "version": "3.5.2"
  }
 },
 "nbformat": 4,
 "nbformat_minor": 2
}
